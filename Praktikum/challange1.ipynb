{
 "cells": [
  {
   "cell_type": "code",
   "execution_count": 7,
   "metadata": {},
   "outputs": [
    {
     "name": "stdout",
     "output_type": "stream",
     "text": [
      "True\n"
     ]
    }
   ],
   "source": [
    "def cekprima(bil):\n",
    "    temp = 0\n",
    "    for i in range(1,bil+1):\n",
    "        if bil%i == 0:\n",
    "            temp+=1\n",
    "    if temp==2:\n",
    "        return True\n",
    "    else:\n",
    "        return False\n",
    "a = int(input('input bilangan : '))\n",
    "b = cekprima(a)\n",
    "print(b)"
   ]
  },
  {
   "cell_type": "code",
   "execution_count": 8,
   "metadata": {},
   "outputs": [
    {
     "name": "stdout",
     "output_type": "stream",
     "text": [
      "13\n"
     ]
    }
   ],
   "source": [
    "def cekprima(bil):\n",
    "    temp = 0\n",
    "    for i in range(1,bil+1):\n",
    "        if bil%i == 0:\n",
    "            temp+=1\n",
    "    if temp==2:\n",
    "        return True\n",
    "    else:\n",
    "        return False\n",
    "\n",
    "def jumPrima(data):\n",
    "    count = 0\n",
    "    for j in data:\n",
    "        if cekprima(j):\n",
    "            count+=j\n",
    "    return count\n",
    "datalist = [3,5,5]\n",
    "a = jumPrima(datalist)\n",
    "print(a)"
   ]
  },
  {
   "cell_type": "code",
   "execution_count": null,
   "metadata": {},
   "outputs": [],
   "source": []
  }
 ],
 "metadata": {
  "kernelspec": {
   "display_name": "Python 3",
   "language": "python",
   "name": "python3"
  },
  "language_info": {
   "codemirror_mode": {
    "name": "ipython",
    "version": 3
   },
   "file_extension": ".py",
   "mimetype": "text/x-python",
   "name": "python",
   "nbconvert_exporter": "python",
   "pygments_lexer": "ipython3",
   "version": "3.12.2"
  }
 },
 "nbformat": 4,
 "nbformat_minor": 2
}

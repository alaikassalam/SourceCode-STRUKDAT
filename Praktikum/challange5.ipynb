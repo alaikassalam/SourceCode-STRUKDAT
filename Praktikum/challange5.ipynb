{
 "cells": [
  {
   "cell_type": "code",
   "execution_count": 5,
   "metadata": {},
   "outputs": [],
   "source": [
    "def stack():\n",
    "    s=[]\n",
    "    return (s)\n",
    "def push(s,data):\n",
    "    s.append(data)\n",
    "def pop(s):\n",
    "    data=s.pop()\n",
    "    return(data)\n",
    "def peek(s):\n",
    "    return(s[len(s)-1])\n",
    "def isEmpty(s):\n",
    "    return (s==[])\n",
    "def size(s):\n",
    "    return(len(s))\n",
    "    "
   ]
  },
  {
   "cell_type": "code",
   "execution_count": null,
   "metadata": {},
   "outputs": [],
   "source": [
    "\n",
    "def infixtopostfix(infix):\n",
    "    operator = ['+','-','*','/','(',')']\n",
    "    prioritas = {\n",
    "        '*' : 3,\n",
    "        '/' : 3,\n",
    "        '+' : 2,\n",
    "        '-' : 2,\n",
    "        '(' : 1,\n",
    "        ')' : 1\n",
    "    }\n",
    "    st = stack()\n",
    "    hasil = ' '\n",
    "    print(infix)\n",
    "    for i in infix:\n",
    "        print()\n",
    "        print('yang dibaca : ',i)\n",
    "        if i not in operator:\n",
    "            hasil += i\n",
    "        \n",
    "        elif i == ')':\n",
    "            while peek(st) != '(':\n",
    "                hasil += pop(st)\n",
    "            pop(st)\n",
    "            \n",
    "        elif i == '(':\n",
    "            push(st,i)\n",
    "        else:\n",
    "            while not isEmpty(st) and peek(st) != '(' and prioritas[i] <= prioritas[peek[st]]:\n",
    "                hasil += pop(st)\n",
    "            push(st,i)\n",
    "        print('hasil : ',hasil)\n",
    "        print('stack : ',st)\n",
    "    while not isEmpty(st):\n",
    "        hasil += pop(st)\n",
    "        print('hasil : ',hasil)\n",
    "    return hasil\n",
    "\n",
    "a = 'A*(B+C)'\n",
    "b = infixtopostfix(a)\n",
    "print('Infix : ',a)\n",
    "print('Postfix : ',b)"
   ]
  },
  {
   "cell_type": "code",
   "execution_count": 18,
   "metadata": {},
   "outputs": [
    {
     "data": {
      "text/plain": [
       "'(a+b)'"
      ]
     },
     "execution_count": 18,
     "metadata": {},
     "output_type": "execute_result"
    }
   ],
   "source": [
    "def PostfixToInfix(Postfix):\n",
    "    operator = ['+','-','*']\n",
    "    st = stack()\n",
    "    for ch in Postfix:\n",
    "        if ch not in operator:\n",
    "            push(st,ch)\n",
    "        else: \n",
    "            operand2 = pop(st)\n",
    "            operand1 = pop(st)\n",
    "            push(st,'(' + operand1 + ch + operand2 + ')')\n",
    "    return pop(st)\n",
    "        \n",
    "PostfixToInfix('ab+')\n",
    "            \n",
    "    "
   ]
  },
  {
   "cell_type": "code",
   "execution_count": 9,
   "metadata": {},
   "outputs": [],
   "source": [
    "def queue():\n",
    "    q=[]\n",
    "    return (q)\n",
    "def enqueue(q,data):\n",
    "    q.insert(0,data)\n",
    "    return(q)\n",
    "def dequeue(q):\n",
    "    data=q.pop()\n",
    "    return(data)\n",
    "def isEmpty(q):\n",
    "    return (q==[])\n",
    "def size(q):\n",
    "    return (len(q))\n"
   ]
  },
  {
   "cell_type": "code",
   "execution_count": 16,
   "metadata": {},
   "outputs": [
    {
     "name": "stdout",
     "output_type": "stream",
     "text": [
      "['x', 'e', 'l', 'a']\n",
      "alex\n"
     ]
    }
   ],
   "source": [
    "kata = 'alex'\n",
    "reverse = queue()\n",
    "for i in kata:\n",
    "    enqueue(reverse,i)\n",
    "print(reverse)\n",
    "\n",
    "temp = ''\n",
    "for j in  range(len(reverse)):\n",
    "    temp += dequeue(reverse)\n",
    "print(temp)"
   ]
  }
 ],
 "metadata": {
  "kernelspec": {
   "display_name": "Python 3",
   "language": "python",
   "name": "python3"
  },
  "language_info": {
   "codemirror_mode": {
    "name": "ipython",
    "version": 3
   },
   "file_extension": ".py",
   "mimetype": "text/x-python",
   "name": "python",
   "nbconvert_exporter": "python",
   "pygments_lexer": "ipython3",
   "version": "3.12.2"
  }
 },
 "nbformat": 4,
 "nbformat_minor": 2
}

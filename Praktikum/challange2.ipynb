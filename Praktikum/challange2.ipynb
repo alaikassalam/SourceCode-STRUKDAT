{
 "cells": [
  {
   "cell_type": "code",
   "execution_count": 1,
   "metadata": {},
   "outputs": [],
   "source": [
    "def stack():\n",
    "    s=[]\n",
    "    return (s)\n",
    "def push(s,data):\n",
    "    s.append(data)\n",
    "def pop(s):\n",
    "    data=s.pop()\n",
    "    return(data)\n",
    "def peek(s):\n",
    "    return(s[len(s)-1])\n",
    "def isEmpty(s):  \n",
    "    return (s==[])\n",
    "def size(s):\n",
    "    return(len(s))"
   ]
  },
  {
   "cell_type": "code",
   "execution_count": null,
   "metadata": {},
   "outputs": [],
   "source": [
    "def nyoba(n):\n",
    "    st = stack()\n",
    "    hasil = []\n",
    "    for i in range(n):\n",
    "        inp = int(input('input : '))\n",
    "        hasil.append(inp)\n",
    "    return hasil\n",
    "nyoba(5)\n",
    "def popp(hasil):\n",
    "    data = hasil.pop()\n",
    "    return data\n",
    "nyoba(popp)\n"
   ]
  },
  {
   "cell_type": "code",
   "execution_count": 15,
   "metadata": {},
   "outputs": [
    {
     "name": "stdout",
     "output_type": "stream",
     "text": [
      "['alaikassalam', 'alaikassalam', 'alaikassalam', 'alaikassalam', 'alaikassalam', 'alaikassalam', 'alaikassalam', 'alaikassalam', 'alaikassalam', 'alaikassalam', 'alaikassalam', 'alaikassalam']\n"
     ]
    }
   ],
   "source": [
    "kata = 'aikassalam'\n",
    "st = stack()\n",
    "terbanyak = []\n",
    "for i in kata:\n",
    "    if i not in terbanyak and :\n",
    "        push(terbanyak,kata)\n",
    "print(terbanyak)\n",
    "\n"
   ]
  },
  {
   "cell_type": "code",
   "execution_count": 28,
   "metadata": {},
   "outputs": [
    {
     "name": "stdout",
     "output_type": "stream",
     "text": [
      "kata :  alaikassalam\n",
      "karakter terbanyak :  a\n"
     ]
    }
   ],
   "source": [
    "st = stack()\n",
    "kata = 'alaikassalam'\n",
    "hasil = {}\n",
    "charTerBanyak = 0\n",
    "seringMuncul = 0\n",
    "for char in kata:\n",
    "    for char in kata:\n",
    "        if char in hasil:\n",
    "            hasil[char]+=1\n",
    "        else:\n",
    "            hasil[char] = 1\n",
    "    for char in hasil:\n",
    "        if hasil[char]>seringMuncul:\n",
    "            charTerbanyak = char\n",
    "            seringMuncul = hasil[char]\n",
    "print('kata : ',kata)\n",
    "print('karakter terbanyak : ',charTerbanyak)\n",
    "\n",
    "\n"
   ]
  },
  {
   "cell_type": "code",
   "execution_count": null,
   "metadata": {},
   "outputs": [],
   "source": [
    "st = stack()\n"
   ]
  }
 ],
 "metadata": {
  "kernelspec": {
   "display_name": "Python 3",
   "language": "python",
   "name": "python3"
  },
  "language_info": {
   "codemirror_mode": {
    "name": "ipython",
    "version": 3
   },
   "file_extension": ".py",
   "mimetype": "text/x-python",
   "name": "python",
   "nbconvert_exporter": "python",
   "pygments_lexer": "ipython3",
   "version": "3.12.2"
  }
 },
 "nbformat": 4,
 "nbformat_minor": 2
}

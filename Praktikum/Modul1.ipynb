{
 "cells": [
  {
   "cell_type": "markdown",
   "metadata": {},
   "source": [
    "\n",
    "Baik, berikut adalah algoritma untuk membuat fungsi yang melakukan pengecekan apakah sebuah bilangan bulat adalah bilangan palindrome:\n",
    "\n",
    "Buatlah fungsi dengan nama is_palindrome yang menerima satu parameter, yaitu bilangan bulat num.\n",
    "Konversikan num menjadi string untuk memungkinkan akses karakter per karakter.\n",
    "Buatlah variabel reverse_num untuk menyimpan bilangan yang merupakan hasil pembalikan dari num.\n",
    "Lakukan iterasi dari indeks terakhir hingga indeks pertama pada string num.\n",
    "Tambahkan setiap karakter ke variabel reverse_num dari belakang ke depan.\n",
    "Setelah selesai iterasi, bandingkan nilai num dengan reverse_num.\n",
    "Jika keduanya sama, kembalikan nilai True, karena itu merupakan bilangan palindrome.\n",
    "Jika tidak, kembalikan nilai False, karena itu bukan bilangan palindrome."
   ]
  },
  {
   "cell_type": "code",
   "execution_count": 53,
   "metadata": {},
   "outputs": [
    {
     "name": "stdout",
     "output_type": "stream",
     "text": [
      "input :  125521\n",
      "outpu :  True\n"
     ]
    }
   ],
   "source": [
    "# no.2\n",
    "def palindrome(angka):\n",
    "    str_angka = str(angka)\n",
    "    kebalikan = ''\n",
    "    for i in range(len(str_angka)-1,-1,-1):\n",
    "        kebalikan += str_angka[i]\n",
    "    if str_angka==kebalikan:\n",
    "        return True\n",
    "    else:\n",
    "        return False\n",
    "a = 125521\n",
    "b = palindrome(a)\n",
    "print('input : ',a)\n",
    "print('outpu : ',b)"
   ]
  },
  {
   "cell_type": "markdown",
   "metadata": {},
   "source": [
    "# terbesar dan terkecil"
   ]
  },
  {
   "cell_type": "code",
   "execution_count": 48,
   "metadata": {},
   "outputs": [
    {
     "name": "stdout",
     "output_type": "stream",
     "text": [
      "input :  [1, 5, 9, 10, 8]\n",
      "output :  [2, 3]\n"
     ]
    }
   ],
   "source": [
    "# no.1\n",
    "def cek2index(data):\n",
    "    terbesar = 0\n",
    "    hasil = []\n",
    "    for i in range(len(data)):\n",
    "        for j in range(len(data)):\n",
    "            if data[i]>data[j]:\n",
    "                perkalian = (data[i]-1)*(data[j]-1)\n",
    "                if perkalian > terbesar:\n",
    "                    terbesar = perkalian\n",
    "                    hasil = [i, j] if i < j else [j, i] \n",
    "    return hasil\n",
    "a = [1,5,9,10,8]\n",
    "b = cek2index(a)\n",
    "print('input : ',a)\n",
    "print('output : ',b)"
   ]
  },
  {
   "cell_type": "code",
   "execution_count": 1,
   "metadata": {},
   "outputs": [
    {
     "name": "stdout",
     "output_type": "stream",
     "text": [
      "input :  [1, 5, 9, 10, 8]\n",
      "output :  [0, 1]\n"
     ]
    }
   ],
   "source": [
    "def cek2index(data):\n",
    "    terkecil = float('inf')  # Menginisialisasi dengan nilai tak terhingga positif\n",
    "    hasil = []\n",
    "    for i in range(len(data)):\n",
    "        for j in range(len(data)):\n",
    "            if i != j:  # Menambahkan kondisi untuk memastikan i dan j tidak sama\n",
    "                perkalian = (data[i]-1)*(data[j]-1)\n",
    "                if perkalian < terkecil:\n",
    "                    terkecil = perkalian\n",
    "                    hasil = [i, j] if i < j else [j, i]\n",
    "\n",
    "    return hasil\n",
    "\n",
    "a = [1,5,9,10,8]\n",
    "b = cek2index(a)\n",
    "print('input : ',a)\n",
    "print('output : ',b)\n"
   ]
  },
  {
   "cell_type": "markdown",
   "metadata": {},
   "source": [
    "Fungsi `seringmuncul(data)` menghitung bilangan yang paling sering muncul dalam list `data` dengan melakukan iterasi melalui list dan menghitung jumlah kemunculan setiap bilangan menggunakan kamus. Kemudian, fungsi tersebut memeriksa kamus untuk menemukan bilangan yang memiliki jumlah kemunculan terbanyak. Berikut adalah penjelasan mengenai kode tersebut:\n",
    "\n",
    "```python\n",
    "def seringmuncul(data):\n",
    "    # Inisialisasi variabel untuk menyimpan bilangan terbanyak dan jumlah kemunculannya\n",
    "    terbanyak = 0\n",
    "    muncul = 0\n",
    "    hasil = {}  # Inisialisasi kamus untuk menyimpan jumlah kemunculan setiap bilangan\n",
    "    \n",
    "    # Iterasi melalui setiap elemen dalam list\n",
    "    for bil in data:\n",
    "        # Periksa apakah bilangan sudah ada dalam kamus\n",
    "        if bil in hasil:\n",
    "            # Jika sudah ada, tambahkan 1 ke jumlah kemunculan\n",
    "            hasil[bil] += 1\n",
    "        else:\n",
    "            # Jika belum ada, tambahkan bilangan ke kamus dengan jumlah kemunculan 1\n",
    "            hasil[bil] = 1\n",
    "    \n",
    "    # Iterasi melalui setiap item dalam kamus\n",
    "    for bil in hasil:\n",
    "        # Periksa apakah jumlah kemunculan bilangan saat ini lebih besar dari jumlah kemunculan terbanyak yang sudah tersimpan sebelumnya\n",
    "        if hasil[bil] > muncul:\n",
    "            # Jika ya, perbarui bilangan terbanyak dan jumlah kemunculannya\n",
    "            terbanyak = bil\n",
    "            muncul = hasil[bil]\n",
    "    \n",
    "    return terbanyak\n",
    "\n",
    "# Contoh penggunaan\n",
    "data = [4, 1, 4, 6]\n",
    "hasil = seringmuncul(data)\n",
    "print(hasil)\n",
    "```\n",
    "\n"
   ]
  },
  {
   "cell_type": "markdown",
   "metadata": {},
   "source": [
    "Contoh input [4, 1, 4, 6]:\n",
    "\n",
    "Iterasi pertama melalui list:\n",
    "\n",
    "Ketika bil = 4, hasil diupdate menjadi {4: 1}.\n",
    "Ketika bil = 1, hasil diupdate menjadi {4: 1, 1: 1}.\n",
    "Ketika bil = 4 lagi, hasil diupdate menjadi {4: 2, 1: 1}.\n",
    "Ketika bil = 6, hasil diupdate menjadi {4: 2, 1: 1, 6: 1}.\n",
    "Iterasi kedua melalui kamus hasil:\n",
    "\n",
    "Pertama, bil = 4, dengan jumlah kemunculan 2. Karena jumlah kemunculan 4 lebih besar dari muncul yang saat ini 0, terbanyak diupdate menjadi 4 dan muncul diupdate menjadi 2.\n",
    "Kemudian, bil = 1, dengan jumlah kemunculan 1. Karena jumlah kemunculan 1 kurang dari muncul yang saat ini 2, tidak ada pembaruan pada terbanyak dan muncul.\n",
    "Terakhir, bil = 6, dengan jumlah kemunculan 1. Karena jumlah kemunculan 6 kurang dari muncul yang saat ini 2, tidak ada pembaruan pada terbanyak dan muncul.\n",
    "Hasilnya adalah 4, karena 4 adalah bilangan yang paling sering muncul dalam list input [4, 1, 4, 6]."
   ]
  },
  {
   "cell_type": "code",
   "execution_count": 47,
   "metadata": {},
   "outputs": [
    {
     "name": "stdout",
     "output_type": "stream",
     "text": [
      "input :  [4, 1, 4, 6]\n",
      "output :  4\n"
     ]
    }
   ],
   "source": [
    "# no.3\n",
    "def seringMuncul(data):\n",
    "    bilTerBanyak = 0\n",
    "    seringMuncul = 0\n",
    "    hasil = {}\n",
    "    for bil in data:\n",
    "        if bil in hasil:\n",
    "            hasil[bil]+=1\n",
    "        else:\n",
    "            hasil[bil] = 1\n",
    "    for bil in hasil:\n",
    "        if hasil[bil]>seringMuncul:\n",
    "            bilTerbanyak = bil\n",
    "            seringMuncul = hasil[bil]\n",
    "    return bilTerbanyak\n",
    "a = [4,1,4,6]\n",
    "result = seringMuncul(data)\n",
    "print('input : ',a)\n",
    "print('output : ',result)"
   ]
  },
  {
   "cell_type": "markdown",
   "metadata": {},
   "source": [
    "# No.4\n",
    "Buatlah Fungsi dan code yang diperlukan untuk memanggil fungsi tersebut dengan menggunakan\n",
    "bahasa Python, antara lain :\n",
    "- Fungsi createList untuk membentuk suatu list dengan parameter atau argumen berupa ukuran\n",
    "list\n",
    "- Fungsi untuk menghitung Persamaan (1) yaitu :\n",
    "  $$\n",
    "  y = \\frac 1n \\sum_{i=0}^{n-1} x_i\n",
    "  $$\n",
    "dimana n adalah jumlah data yang terdapat pada list (dari fungsi createList), dan xi adalah data\n",
    "ke-i dari suatu list\n",
    "- Fungsi untuk menghitung Persamaan (2) yaitu :\n",
    "$$\n",
    "z = \\frac 1{n-1} \\sum_{i=0}^{n-1} (x_i - y)^2\n",
    "$$\n",
    "dimana n adalah jumlah data yang terdapat pada list (dari fungsi createList), dan xi adalah data\n",
    "ke-i dari suatu list, dan y adalah hasil perhitungan yang didapatkan pada Persamaan (1)\n",
    "- Buktikan dengan perhitungan manual bahwa output yang dihasilkan dari fungsi yang dibuat sama\n",
    "dengan hasil perhitungan manual"
   ]
  },
  {
   "cell_type": "code",
   "execution_count": 1,
   "metadata": {},
   "outputs": [
    {
     "name": "stdout",
     "output_type": "stream",
     "text": [
      "2.0\n",
      "2.5\n"
     ]
    }
   ],
   "source": [
    "def createList(n):\n",
    "  listt = []\n",
    "  for i in range(n):\n",
    "    listt.append(i)\n",
    "  return listt\n",
    "\n",
    "def menghitung_persamaan1(lst):\n",
    "    n = len(lst)\n",
    "    y = 0\n",
    "    for data in lst:\n",
    "      y += data\n",
    "    y = y / n\n",
    "    return y\n",
    "\n",
    "def menghitung_persamaan2(lst):\n",
    "    n = len(lst)\n",
    "    y = menghitung_persamaan1(lst)\n",
    "    s = 0\n",
    "    for x in lst:\n",
    "      s += (x - y)**2\n",
    "    s = s / (n-1)\n",
    "    return s\n",
    "\n",
    "lst = createList(5)\n",
    "print(menghitung_persamaan1(lst))\n",
    "print(menghitung_persamaan2(lst))"
   ]
  }
 ],
 "metadata": {
  "kernelspec": {
   "display_name": "Python 3",
   "language": "python",
   "name": "python3"
  },
  "language_info": {
   "codemirror_mode": {
    "name": "ipython",
    "version": 3
   },
   "file_extension": ".py",
   "mimetype": "text/x-python",
   "name": "python",
   "nbconvert_exporter": "python",
   "pygments_lexer": "ipython3",
   "version": "3.12.2"
  }
 },
 "nbformat": 4,
 "nbformat_minor": 2
}

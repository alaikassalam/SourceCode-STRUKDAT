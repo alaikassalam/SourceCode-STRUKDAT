{
 "cells": [
  {
   "cell_type": "markdown",
   "metadata": {},
   "source": [
    "# No.1\n",
    "Buat fungsi modifikasi Bubble Sort agar pengurutannya dilakukan secara optimal, dengan cara:\n",
    "* gunakanlah flag untuk memeriksa apakah ada pertukaran yang terjadi selama iterasi tertentu.\n",
    "Jika tidak ada pertukaran yang terjadi, maka hal ini berarti array sudah terurut dan algoritma\n",
    "dapat dihentikan lebih awal. Amati yang terjadi.\n",
    "4\n",
    "\n",
    "* tambahkanlah while loop dan amati yang terjadi."
   ]
  },
  {
   "cell_type": "code",
   "execution_count": null,
   "metadata": {},
   "outputs": [],
   "source": [
    "def modifBublesort(data):\n",
    "    print(\"data awal : \", data)\n",
    "    print()\n",
    "    n = len(data)\n",
    "    swapped = True\n",
    "    while swapped:\n",
    "        swapped = False\n",
    "        for i in range(1, n):\n",
    "            if data[i-1] > data[i]:\n",
    "                data[i-1], data[i] = data[i], data[i-1]\n",
    "                swapped = True\n",
    "                print(f\"tukar {data[i]} = {data[i-1]}\")\n",
    "                print(f\"data baru : {data}\")\n",
    "                print()\n",
    "    print(\"data terurut :\", data)\n",
    "\n",
    "data = [1, 5, 2, 4, 3, 6, 7, 11, 8]\n",
    "modifBublesort(data)\n"
   ]
  },
  {
   "cell_type": "markdown",
   "metadata": {},
   "source": [
    "# No.2\n",
    "Buat fungsi modifikasi Selection Sort agar dalam satu iterasi dapat memilih elemen terkecil dan terbesar dan meletakkannya di tempat yang tepat, sehingga mengurangi jumlah iterasi yang diperlukan untuk mengurutkan seluruh array."
   ]
  },
  {
   "cell_type": "code",
   "execution_count": 1,
   "metadata": {},
   "outputs": [
    {
     "name": "stdout",
     "output_type": "stream",
     "text": [
      "Data Awal= [1, 2, 5, 8, 20, 7, 12, 4]\n",
      "\n",
      "Pertukaran nilai maksimum:\n",
      "Indeks 7 = Indeks 4 >> [1, 2, 5, 8, 4, 7, 12, 20]\n",
      "Pertukaran nilai minimum:\n",
      "Indeks 2 = Indeks 4 >> [1, 2, 4, 8, 5, 7, 12, 20]\n",
      "Pertukaran nilai maksimum:\n",
      "Indeks 5 = Indeks 3 >> [1, 2, 4, 7, 5, 8, 12, 20]\n",
      "Pertukaran nilai minimum:\n",
      "Indeks 3 = Indeks 4 >> [1, 2, 4, 5, 7, 8, 12, 20]\n",
      "Pertukaran nilai maksimum:\n",
      "Indeks 4 = Indeks 3 >> [1, 2, 4, 7, 5, 8, 12, 20]\n",
      "Data Urut= [1, 2, 4, 7, 5, 8, 12, 20]\n"
     ]
    }
   ],
   "source": [
    "def modifSelectionSort(data):\n",
    "    print('Data Awal=', data)\n",
    "    print()\n",
    "    n = len(data)\n",
    "    for iterasi in range(n//2):\n",
    "        indeksMin = iterasi\n",
    "        indeksMaks = iterasi\n",
    "        for i in range(iterasi + 1, n - iterasi):\n",
    "            if data[i] < data[indeksMin]:\n",
    "                indeksMin = i\n",
    "            elif data[i] > data[indeksMaks]:\n",
    "                indeksMaks = i\n",
    "        if iterasi != indeksMin:\n",
    "            data[iterasi], data[indeksMin] = data[indeksMin], data[iterasi]\n",
    "            print('Pertukaran nilai minimum:') \n",
    "            print('Indeks', iterasi, '= Indeks', indeksMin, '>>', data)\n",
    "        if (n - iterasi - 1) != indeksMaks:\n",
    "            data[n - iterasi - 1], data[indeksMaks] = data[indeksMaks], data[n - iterasi - 1]\n",
    "            print('Pertukaran nilai maksimum:') \n",
    "            print('Indeks', n - iterasi - 1, '= Indeks', indeksMaks, '>>', data)\n",
    "    print('Data Urut=', data)\n",
    "\n",
    "data = [1, 2, 5, 8, 20, 7, 12, 4]\n",
    "modifSelectionSort(data)\n"
   ]
  },
  {
   "cell_type": "markdown",
   "metadata": {},
   "source": [
    "# No.3\n",
    "Buatlah modifikasi program Insertion Sort agar meminimalkan jumlah perbandingan. Dengan melakukan pengecekan awal untuk memastikan bahwa elemen sudah di tempat yang tepat sebelum memulai proses pergeseran. Hal ini akan mengurangi jumlah operasi secara keseluruhan jika elemen sudah dalam urutan yang benar."
   ]
  },
  {
   "cell_type": "code",
   "execution_count": 1,
   "metadata": {},
   "outputs": [
    {
     "name": "stdout",
     "output_type": "stream",
     "text": [
      "data awal : [5, 2, 4, 6, 1, 3]\n",
      "\n",
      "Memulai pergeseran untuk 2.\n",
      "[5, 5, 4, 6, 1, 3]\n",
      "Menempatkan 2 pada indeks 0. Hasil: [2, 5, 4, 6, 1, 3]\n",
      "\n",
      "Memulai pergeseran untuk 4.\n",
      "[2, 5, 5, 6, 1, 3]\n",
      "Menempatkan 4 pada indeks 1. Hasil: [2, 4, 5, 6, 1, 3]\n",
      "\n",
      "Langsung ke iterasi berikutnya karena 6 sudah dalam urutan yang benar.\n",
      "\n",
      "Memulai pergeseran untuk 1.\n",
      "[2, 4, 5, 6, 6, 3]\n",
      "[2, 4, 5, 5, 6, 3]\n",
      "[2, 4, 4, 5, 6, 3]\n",
      "[2, 2, 4, 5, 6, 3]\n",
      "Menempatkan 1 pada indeks 0. Hasil: [1, 2, 4, 5, 6, 3]\n",
      "\n",
      "Memulai pergeseran untuk 3.\n",
      "[1, 2, 4, 5, 6, 6]\n",
      "[1, 2, 4, 5, 5, 6]\n",
      "[1, 2, 4, 4, 5, 6]\n",
      "Menempatkan 3 pada indeks 2. Hasil: [1, 2, 3, 4, 5, 6]\n",
      "\n",
      "data terurut : [1, 2, 3, 4, 5, 6]\n"
     ]
    }
   ],
   "source": [
    "def modifInsertionSort(data):\n",
    "    for i in range(1, len(data)):\n",
    "        key = data[i]\n",
    "        j = i - 1\n",
    "        if data[j] > key:\n",
    "            print(f\"Memulai pergeseran untuk {key}.\")\n",
    "            while j >= 0 and key < data[j]:\n",
    "                data[j+1] = data[j]\n",
    "                j -= 1\n",
    "                print(data)\n",
    "            data[j+1] = key\n",
    "            print(f\"Menempatkan {key} pada indeks {j+1}. Hasil: {data}\\n\")\n",
    "        else:\n",
    "            print(f\"Langsung ke iterasi berikutnya karena {key} sudah dalam urutan yang benar.\\n\")\n",
    "    \n",
    "    return data\n",
    "\n",
    "data = [5, 2, 4, 6, 1, 3]\n",
    "print(\"data awal :\", data)\n",
    "print()\n",
    "print(\"data terurut :\", modifInsertionSort(data))\n"
   ]
  }
 ],
 "metadata": {
  "kernelspec": {
   "display_name": "Python 3",
   "language": "python",
   "name": "python3"
  },
  "language_info": {
   "codemirror_mode": {
    "name": "ipython",
    "version": 3
   },
   "file_extension": ".py",
   "mimetype": "text/x-python",
   "name": "python",
   "nbconvert_exporter": "python",
   "pygments_lexer": "ipython3",
   "version": "3.12.2"
  }
 },
 "nbformat": 4,
 "nbformat_minor": 2
}

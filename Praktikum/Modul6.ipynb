{
 "cells": [
  {
   "cell_type": "markdown",
   "metadata": {},
   "source": [
    "No.1\n",
    "Buatlah fungsi sequential search (dapat juga menemukan posisi-posisi dari data yang sama), dengan argument atau parameter berupa:\n",
    "\n",
    "a. data yang akan dicari\n",
    "\n",
    "b. list data dari data yang akan dicari\n",
    "\n",
    "Sedangkan return value dari fungsi ini berupa:\n",
    "\n",
    "a. indeks-indeks atau posisi dari data yang dicari pada list (jika data ditemukan), dan 'Data tidak ada' jika data tidak ditemukan.\n",
    "\n",
    "b. Jumlah iterasi yang diperlukan selama proses pencarian"
   ]
  },
  {
   "cell_type": "code",
   "execution_count": 1,
   "metadata": {},
   "outputs": [
    {
     "name": "stdout",
     "output_type": "stream",
     "text": [
      "Posisi Data = [1, 5, 8]\n",
      "Jumlah Iterasi = 10\n"
     ]
    }
   ],
   "source": [
    "def sequentialSearch(listData, data):\n",
    "  hasil = []\n",
    "  jumlahIterasi = 0\n",
    "  for ind in range(len(listData)):\n",
    "    jumlahIterasi += 1\n",
    "    if listData[ind] == data:\n",
    "      hasil.append(ind)\n",
    "  if not hasil:\n",
    "    hasil = 'Data tidak ada'\n",
    "  return hasil, jumlahIterasi\n",
    "\n",
    "a = [1, 5, 9, 8, 1, 5, 10, 26, 5, 12]\n",
    "[hasil, jumlahIterasi] = sequentialSearch(a, 5)\n",
    "print(f'Posisi Data = {hasil}')\n",
    "print(f'Jumlah Iterasi = {jumlahIterasi}')"
   ]
  },
  {
   "cell_type": "markdown",
   "metadata": {},
   "source": [
    "No.2\n",
    "Lakukan modifikasi sequential search tersebut agar tetap meneruskan pencarian sampai data terakhir, dan kembalikan index data semua data yang ditemukan (asumsi, ada data yang sama)."
   ]
  },
  {
   "cell_type": "code",
   "execution_count": 2,
   "metadata": {},
   "outputs": [
    {
     "name": "stdout",
     "output_type": "stream",
     "text": [
      "Posisi Data = [1, 5, 8]\n",
      "Jumlah Iterasi = 10\n"
     ]
    }
   ],
   "source": [
    "def sequentialSearch(listData, data):\n",
    "    hasil = []\n",
    "    jumlahIterasi = 0\n",
    "    for ind in range(len(listData)):\n",
    "        jumlahIterasi += 1\n",
    "        if listData[ind] == data:\n",
    "            hasil.append(ind)\n",
    "    if not hasil:\n",
    "        hasil = 'Data tidak ada'\n",
    "    return hasil, jumlahIterasi\n",
    "\n",
    "a = [1, 5, 9, 8, 1, 5, 10, 26, 5, 12]\n",
    "[hasil, jumlahIterasi] = sequentialSearch(a, 5)\n",
    "print(f'Posisi Data = {hasil}')\n",
    "print(f'Jumlah Iterasi = {jumlahIterasi}')"
   ]
  },
  {
   "cell_type": "markdown",
   "metadata": {},
   "source": [
    "No.3\n",
    "Buatlah fungsi ordered sequential search (dapat juga menemukan posisi-posisi dari data yang sama), yaitu pencarian pada list data dimana semua data-data pada list tersebut dalam keadaan terurut (ascending). Argument atau parameter pada fungsi tersebut berupa :\n",
    "\n",
    "a. data yang akan dicari\n",
    "\n",
    "b. list data dari data yang akan dicari\n",
    "\n",
    "Sedangkan return value dari fungsi ini berupa:\n",
    "\n",
    "a. indeks-indeks atau posisi dari data yang dicari pada list (jika data ditemukan), dan 'Data tidak ada' jika data tidak ditemukan.\n",
    "\n",
    "b. Jumlah iterasi yang diperlukan selama proses pencarian"
   ]
  },
  {
   "cell_type": "code",
   "execution_count": 3,
   "metadata": {},
   "outputs": [
    {
     "name": "stdout",
     "output_type": "stream",
     "text": [
      "Posisi listData: [6]\n",
      "Jumlah jumlahIterasi: 8\n"
     ]
    }
   ],
   "source": [
    "def orderedSequential(listData, data):\n",
    "    hasil = []\n",
    "    jumlahIterasi = 0\n",
    "    while jumlahIterasi < len(listData):\n",
    "        if listData[jumlahIterasi] > data:\n",
    "            jumlahIterasi += 1\n",
    "            break\n",
    "        else:\n",
    "            if listData[jumlahIterasi] == data:\n",
    "                hasil.append(jumlahIterasi)\n",
    "        jumlahIterasi += 1\n",
    "    if hasil == []:\n",
    "        hasil = 'Data tidak ada'\n",
    "    return hasil, jumlahIterasi\n",
    "\n",
    "arr = [1,1,5,5,5,8,9,10,12,26]\n",
    "[hasil, jumlahIterasi] = orderedSequential(arr,9)\n",
    "print(f'Posisi listData: {hasil}')\n",
    "print(f'Jumlah jumlahIterasi: {jumlahIterasi}')"
   ]
  },
  {
   "cell_type": "markdown",
   "metadata": {},
   "source": [
    "No.4\n",
    "Buatlah fungsi binary search yang sudah dimodifikasi, sehingga dapat mencari data yang sama dan mengembalikan indeks-indeks dari data yang sama tersebut. Argument atau parameter pada fungsi tersebut berupa :\n",
    "\n",
    "a. data yang akan dicari\n",
    "\n",
    "b. list data dari data yang akan dicari\n",
    "\n",
    "Sedangkan return value dari fungsi ini berupa:\n",
    "\n",
    "c. indeks-indeks atau posisi dari data yang dicari pada list (jika data ditemukan), dan 'Data tidak ada' jika data tidak ditemukan.\n",
    "\n",
    "d. Jumlah iterasi yang diperlukan selama proses pencarian"
   ]
  },
  {
   "cell_type": "code",
   "execution_count": null,
   "metadata": {},
   "outputs": [],
   "source": [
    "def binarySearch(listData, data): # Mendefinisikan fungsi binarySearch dengan dua parameter, listData dan data.\n",
    "  hasil = [] # Inisialisasi list kosong untuk menampung indeks hasil pencarian.\n",
    "  iterasi = 0 # Inisialisasi variabel iterasi untuk menghitung jumlah iterasi.\n",
    "  indAwal = 0 # Inisialisasi indeks awal untuk pencarian biner.\n",
    "  indAkhir = len(listData) - 1 # Inisialisasi indeks akhir untuk pencarian biner.\n",
    "\n",
    "  while indAwal <= indAkhir: # Melakukan iterasi selama indeks awal kurang dari atau sama dengan indeks akhir.\n",
    "    indTengah = (indAwal + indAkhir) // 2 # Menghitung indeks tengah dari list.\n",
    "\n",
    "    iterasi += 1 # Menambah jumlah iterasi.\n",
    "\n",
    "    if listData[indTengah] == data: # Memeriksa apakah elemen pada indeks tengah sama dengan data.\n",
    "      hasil.append(indTengah) # Menambahkan indeks tengah ke dalam hasil.\n",
    "\n",
    "      kiri = indTengah - 1 # Inisialisasi variabel kiri untuk memeriksa elemen-elemen di sebelah kiri indeks tengah.\n",
    "      while kiri >= 0 and listData[kiri] == data: # Melakukan iterasi ke kiri untuk mencari elemen yang sama dengan data.\n",
    "        hasil.append(kiri) # Menambahkan indeks elemen yang sama dengan data ke dalam hasil.\n",
    "        kiri -= 1 # Menggeser indeks ke kiri.\n",
    "        iterasi += 1 # Menambah jumlah iterasi.\n",
    "\n",
    "      kanan = indTengah + 1 # Inisialisasi variabel kanan untuk memeriksa elemen-elemen di sebelah kanan indeks tengah.\n",
    "      while kanan < len(listData) and listData[kanan] == data: # Melakukan iterasi ke kanan untuk mencari elemen yang sama dengan data.\n",
    "        hasil.append(kanan) # Menambahkan indeks elemen yang sama dengan data ke dalam hasil.\n",
    "        kanan += 1 # Menggeser indeks ke kanan.\n",
    "        iterasi += 1 # Menambah jumlah iterasi.\n",
    "\n",
    "      break # Menghentikan loop karena pencarian telah selesai.\n",
    "\n",
    "    elif listData[indTengah] > data: # Jika elemen pada indeks tengah lebih besar dari data yang dicari.\n",
    "      indAkhir = indTengah - 1 # Ubah indeks akhir untuk mencari di setengah kiri list.\n",
    "\n",
    "    else: # Jika elemen pada indeks tengah lebih kecil dari data yang dicari.\n",
    "      indAwal = indTengah + 1 # Ubah indeks awal untuk mencari di setengah kanan list.\n",
    "\n",
    "  if hasil == []: # Jika hasil masih kosong, artinya data tidak ditemukan di dalam list.\n",
    "    hasil = 'Data tidak ada' # Ubah hasil menjadi string 'Data tidak ada'.\n",
    "\n",
    "  return hasil, iterasi # Mengembalikan hasil pencarian dan jumlah iterasi.\n",
    "\n",
    "a = [1, 1, 5, 5, 5, 8, 9, 10, 12, 26] # List yang akan dicari.\n",
    "[hasil, iterasi] = binarySearch(a, 1) # Memanggil fungsi binarySearch untuk mencari elemen 1 di dalam list a.\n",
    "print(f'Posisi listData = {hasil}') # Menampilkan hasil posisi elemen.\n",
    "print(f'Jumlah iterasi = {iterasi}') # Menampilkan jumlah iterasi.\n"
   ]
  }
 ],
 "metadata": {
  "kernelspec": {
   "display_name": "Python 3",
   "language": "python",
   "name": "python3"
  },
  "language_info": {
   "codemirror_mode": {
    "name": "ipython",
    "version": 3
   },
   "file_extension": ".py",
   "mimetype": "text/x-python",
   "name": "python",
   "nbconvert_exporter": "python",
   "pygments_lexer": "ipython3",
   "version": "3.12.2"
  }
 },
 "nbformat": 4,
 "nbformat_minor": 2
}

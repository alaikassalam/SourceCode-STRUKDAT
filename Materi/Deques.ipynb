{
 "cells": [
  {
   "cell_type": "markdown",
   "metadata": {},
   "source": [
    "Deque :\n",
    "- front(depan) \n",
    "- rear(belakang) "
   ]
  },
  {
   "cell_type": "markdown",
   "metadata": {},
   "source": [
    "Operasi Pada Deque\n",
    "- deque (),         inisialisasi struktur data deque kosong \n",
    "- addFront (data),  penambahan data baru di ujung front pada deque \n",
    "- addRear (data),   penambahan data baru di ujung rear pada deque \n",
    "- removeRear (),    penghapusan data pada ujung rear \n",
    "- removeFront (),   penghapusan data pada ujung front \n",
    "- isEmpty(),        pengecekan apakah deque dalam keadaan kosong \n",
    "- size (),          informasi jumlah data yang terdapat pada deque"
   ]
  },
  {
   "cell_type": "markdown",
   "metadata": {},
   "source": [
    "List = [0,1,2,3,...n]\n",
    "- index[0] --> Front >> insert()\n",
    "- index[n] --> Rear >> append()  ... penambahan data baru\n",
    "- index[0] --> Front >> pop()\n",
    "- index[n] --> Rear >> pop()  ... pengahapusan data baru"
   ]
  },
  {
   "cell_type": "code",
   "execution_count": 9,
   "metadata": {},
   "outputs": [],
   "source": [
    "def createDeque():\n",
    "    d=[]\n",
    "    return (d)\n",
    "def addFront(d,data):\n",
    "    d.insert(0,data)\n",
    "    return(d)\n",
    "def addRear(d,data):\n",
    "    d.append(data)\n",
    "    return(d)\n",
    "def removeRear(d):\n",
    "    data=d.pop()\n",
    "    return(data)\n",
    "def removeFront(d):\n",
    "    data=d.pop(0)\n",
    "    return(data)\n",
    "def isEmpty(d):\n",
    "    return (d==[])\n",
    "def size(d):\n",
    "    return (len(d))"
   ]
  },
  {
   "cell_type": "code",
   "execution_count": 16,
   "metadata": {},
   "outputs": [
    {
     "name": "stdout",
     "output_type": "stream",
     "text": [
      "False\n"
     ]
    }
   ],
   "source": [
    "def cekPalindrom(string):\n",
    "    palindrom=createDeque()\n",
    "    for huruf in string:\n",
    "        addRear(palindrom,huruf)\n",
    "    cek=True\n",
    "    while cek and size(palindrom)>1:\n",
    "        a=removeRear(palindrom)\n",
    "        b=removeFront(palindrom)\n",
    "        if (a==b):\n",
    "            cek=cek and True\n",
    "            \n",
    "        else:\n",
    "            cek=cek and False\n",
    "    return cek\n",
    "print(cekPalindrom('surabaya'))"
   ]
  },
  {
   "cell_type": "code",
   "execution_count": null,
   "metadata": {},
   "outputs": [],
   "source": [
    "def cekPalindrom(string):\n",
    "    palindrom=createDeque()\n",
    "    for huruf in string:\n",
    "        addRear(palindrom,huruf)\n",
    "    cek=True\n",
    "    for i in range(len(palindrom)):\n",
    "        if len(palindrom)%2==1:\n",
    "            cek = cek and False\n",
    "        else:\n",
    "            a=removeRear(palindrom)\n",
    "            b=removeFront(palindrom)\n",
    "            if (a==b):\n",
    "                cek=cek and True\n",
    "                \n",
    "    return cek\n",
    "print(cekPalindrom('surabaya'))"
   ]
  }
 ],
 "metadata": {
  "kernelspec": {
   "display_name": "Python 3",
   "language": "python",
   "name": "python3"
  },
  "language_info": {
   "codemirror_mode": {
    "name": "ipython",
    "version": 3
   },
   "file_extension": ".py",
   "mimetype": "text/x-python",
   "name": "python",
   "nbconvert_exporter": "python",
   "pygments_lexer": "ipython3",
   "version": "3.12.2"
  }
 },
 "nbformat": 4,
 "nbformat_minor": 2
}

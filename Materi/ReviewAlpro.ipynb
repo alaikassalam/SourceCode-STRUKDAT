{
 "cells": [
  {
   "cell_type": "code",
   "execution_count": 5,
   "metadata": {},
   "outputs": [
    {
     "name": "stdout",
     "output_type": "stream",
     "text": [
      "<class 'int'>\n",
      "<class 'float'>\n",
      "<class 'str'>\n",
      "<class 'bool'>\n"
     ]
    }
   ],
   "source": [
    "# variabel dan tipe data :\n",
    "# integer(numerik), \n",
    "a = 3\n",
    "print(type(a))\n",
    "# float(desimal), \n",
    "b = 2.3\n",
    "print(type(b))\n",
    "# string(teks), \n",
    "c = 'alaikassalam'\n",
    "print(type(c))\n",
    "# boolen(true & false)\n",
    "d = True\n",
    "print(type(d))"
   ]
  },
  {
   "cell_type": "code",
   "execution_count": 10,
   "metadata": {},
   "outputs": [
    {
     "name": "stdout",
     "output_type": "stream",
     "text": [
      "5 $ = Rp 75000\n",
      "67 adalah bilangan ganjil\n",
      "1 . 0\n",
      "2 . 2\n",
      "3 . 4\n",
      "4 . 6\n",
      "5 . 8\n"
     ]
    }
   ],
   "source": [
    "# algoritma :\n",
    "# sequence(berurutan), \n",
    "dollar  = int(input('input jumlah dollar : '))\n",
    "rupiah = dollar*15000\n",
    "print(dollar,'$ = Rp',rupiah)\n",
    "\n",
    "# selection(pilihan), \n",
    "bil = int(input('input bilangan : '))\n",
    "if bil%2==0:\n",
    "    print(bil,'adalah bilangan genap')\n",
    "else:\n",
    "    print(bil,'adalah bilangan ganjil')\n",
    "\n",
    "# looping(perulangan)\n",
    "n = int(input('input bilangan : '))\n",
    "no = 1\n",
    "i = 0\n",
    "while i<=n:\n",
    "    if i%2==0:\n",
    "        print(no,'.',i)\n",
    "        no+=1\n",
    "    i+=1"
   ]
  },
  {
   "cell_type": "code",
   "execution_count": 1,
   "metadata": {},
   "outputs": [
    {
     "name": "stdout",
     "output_type": "stream",
     "text": [
      "a\n",
      "aik\n",
      "3.2\n",
      "[1, 'alaikas', 'python', 'salam']\n",
      "alaikas\n",
      "4.5\n",
      "('alaikas', 4.2)\n",
      "s\n"
     ]
    }
   ],
   "source": [
    "# string--> bersifat immutable tetapi bisa memakai method\n",
    "data = 'alaikas salam'\n",
    "print(data[2])\n",
    "print(data[2:5]) # dimulai dari 0 dan diakhiri -1\n",
    "\n",
    "# list --> bersifat mutable, menggunakan [], berbagai tipe data\n",
    "data = [1,'alaikas',3.2,'salam']\n",
    "print(data[2])\n",
    "data[2] = 'python'\n",
    "print(data) # indeksnya bisa dirubah\n",
    "databaru = [[2,4.5,4],['alaikas',4,5]]\n",
    "print(databaru[1][0]) \n",
    "print(databaru[0][1]) # list 2 dimensi dengan 2 baris 3 kolom\n",
    "\n",
    "# tuple--> bersifat immutable, menggunakan (), berbagai tipe data\n",
    "data = (2,'alaikas',4.2,'salam')\n",
    "print(data[1:3])\n",
    "print(data[3][0])"
   ]
  },
  {
   "cell_type": "code",
   "execution_count": 2,
   "metadata": {},
   "outputs": [
    {
     "name": "stdout",
     "output_type": "stream",
     "text": [
      "alaika\n",
      "{'01': 'alaika', '02': 'anyar', '03': 160, '04': 40.5}\n",
      "alaika\n",
      "{'01': 'alaika', '02': 'melleh', '03': 160, '04': 40.5}\n",
      "{(0, 3): 1, (2, 1): 2, (3, 3): 3}\n",
      "{(0, 3): 1, (2, 1): 2, (3, 3): 3, (0, 2): 4}\n",
      "None\n",
      "(2,1)= 2\n",
      "(1,3)= None\n"
     ]
    }
   ],
   "source": [
    "# dictionaries--> bersifat mutable, key(index) : value(data), menggunakan{}, berbagai tipe data, 2 cara inisialisasi\n",
    "data = {'01':'alaika', '02':'salam', '03':160, '04':40.5}\n",
    "print(data['01'])\n",
    "data['02']='anyar' # value bisa diubah\n",
    "print(data) # ---------------------------> cara ke satu\n",
    "databaru = {}\n",
    "databaru ['01'] = 'alaika'\n",
    "databaru ['02'] = 'salam'\n",
    "databaru ['03'] = 160\n",
    "databaru ['04'] = 40.5\n",
    "print(databaru['01'])\n",
    "databaru['02'] = 'melleh'\n",
    "print(databaru) #------------------------> cara ke dua \n",
    "Mat = {(0,3): 1, (2, 1): 2, (3, 3): 3}\n",
    "print(Mat)\n",
    "Mat[0,2]=4 #penambahan data baru\n",
    "print(Mat)\n",
    "#pengecekan data pada index (ind1,ind2), jika tidak terdapat data, maka retur\n",
    "#jika terdapat data maka return value=adalah data\n",
    "cek=Mat.get((0,1)) \n",
    "print(cek)\n",
    "cek=Mat.get((2,1))\n",
    "print('(2,1)=',cek)\n",
    "cek=Mat.get((1,3))\n",
    "print('(1,3)=',cek)"
   ]
  },
  {
   "cell_type": "code",
   "execution_count": null,
   "metadata": {},
   "outputs": [],
   "source": [
    "funtion :\n",
    "2 hal yang harus diperhatikan: parameter(argumen), return value \n",
    "syntax : \n",
    "         def nama fungsi(argumen,...):\n",
    "                code\n",
    "                code\n",
    "                return value\n",
    "\n",
    " # Function tanpa parameter\n",
    "def addNumbers():\n",
    "    a=int(input('Bilangan pertama = '))\n",
    "    b=int(input('Bilangan kedua = '))\n",
    "    print('Hasil = ',a+b)\n",
    "# Function dengan parameter\n",
    "def addNumbers(a,b):\n",
    "    #print('Hasil = ',a+b)\n",
    "    hasil=a+b\n",
    "#Main program\n",
    "num1=int(input('Bilangan pertama = '))\n",
    "num2=int(input('Bilangan kedua = '))\n",
    "hasil=addNumbers(num1,num2)#memanggil fungsi addNumbers agar dieksekusi\n",
    "print(hasil)\n",
    "# Function dengan parameter dan return value\n",
    "def addNumbers(a,b):\n",
    "    hasil=a+b\n",
    "    return hasil\n",
    "def cekGenap(num):\n",
    "    if num%2==0:\n",
    "        return True\n",
    "    else:\n",
    "        return False\n",
    " #Main program\n",
    "num1=int(input('Bilangan pertama = '))\n",
    "num2=int(input('Bilangan kedua = '))\n",
    "result=addNumbers(num1,num2)#memanggil fungsi addNumbers agar dieksekusi\n",
    "print('Hasil Penjumlahan= ', result)\n",
    "if cekGenap(result):\n",
    "    print(result,' adalah Bilangan Genap')\n",
    "else:\n",
    "    print(result,' adalah Bilangan Ganjil')# Function dengan parameter dan return value\n",
    "\n",
    "# matrix 1D\n",
    "def addMat1D(a,b):\n",
    "    if len(a)==len(b):\n",
    "        hasil=[]\n",
    "        for i in range(len(a)):\n",
    "            hasil.append(a[i]+b[i])\n",
    "            return hasil\n",
    "    else:\n",
    "        return 'Ukuran Tidak Sama'\n",
    "def createMat1D(size):\n",
    "    hasil=[]\n",
    "    for i in range(size):\n",
    "        temp='Data ke-'+str(i)+'='\n",
    "        hasil.append(int(input(temp)))\n",
    "    return hasil\n",
    "a=createMat1D(3)\n",
    "b=[1,2,3]\n",
    "c=addMat1D(a,b)\n",
    "print(a,b,c)\n",
    "\n",
    "# matrix 2D\n",
    "def createMat2D(bar,kol):\n",
    "    hasil=[[] for i in range(bar)]\n",
    "    for i in range(bar):\n",
    "        for j in range(kol):\n",
    "            tempStr='Data ke-'+str(i)+','+str(j)+'='\n",
    "            hasil[i].append(int(input(tempStr)))\n",
    "        return hasil\n",
    "def addMat2D(mat1,mat2):\n",
    "    if len(mat1)==len(mat2) and len(mat1[0])==len(mat2[0]):\n",
    "        hasil=[]\n",
    "        for i in range(len(mat1)):\n",
    "            temp=[]\n",
    "            for j in range(len(mat2)):\n",
    "                temp.append(mat1[i][j]+mat2[i][j])\n",
    "                hasil.append(temp)\n",
    "        return hasil\n",
    "    else: \n",
    "        return 'Ukuran tidak sama'\n",
    "mat1=createMat2D(2,3)\n",
    "print(mat1)"
   ]
  }
 ],
 "metadata": {
  "kernelspec": {
   "display_name": "Python 3",
   "language": "python",
   "name": "python3"
  },
  "language_info": {
   "codemirror_mode": {
    "name": "ipython",
    "version": 3
   },
   "file_extension": ".py",
   "mimetype": "text/x-python",
   "name": "python",
   "nbconvert_exporter": "python",
   "pygments_lexer": "ipython3",
   "version": "3.12.2"
  }
 },
 "nbformat": 4,
 "nbformat_minor": 2
}

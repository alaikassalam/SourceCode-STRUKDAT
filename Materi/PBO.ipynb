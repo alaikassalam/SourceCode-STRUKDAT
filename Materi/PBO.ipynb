{
 "cells": [
  {
   "cell_type": "markdown",
   "metadata": {},
   "source": [
    "# Pemrograman Berbasis Objek  "
   ]
  },
  {
   "cell_type": "code",
   "execution_count": 1,
   "metadata": {},
   "outputs": [],
   "source": [
    "class BilanganKomplek:\n",
    "    def __init__(self,a,b):\n",
    "        self.re = a\n",
    "        self.ima = b\n",
    "data = BilanganKomplek(4,6)"
   ]
  },
  {
   "cell_type": "code",
   "execution_count": 2,
   "metadata": {},
   "outputs": [
    {
     "name": "stdout",
     "output_type": "stream",
     "text": [
      "6 4\n"
     ]
    }
   ],
   "source": [
    "type(data)\n",
    "print(data.re, data.ima)"
   ]
  },
  {
   "cell_type": "code",
   "execution_count": 3,
   "metadata": {},
   "outputs": [
    {
     "name": "stdout",
     "output_type": "stream",
     "text": [
      "4 + 6 i\n"
     ]
    }
   ],
   "source": [
    "class DisplayMat:\n",
    "    def __init__(self,a,b):\n",
    "        self.re = a\n",
    "        self.ima = b\n",
    "    def display(self):\n",
    "        print(self.re, '+', self.ima, 'i')\n",
    "data1 = DisplayMat(4,6)\n",
    "data1.display()"
   ]
  }
 ],
 "metadata": {
  "kernelspec": {
   "display_name": "Python 3",
   "language": "python",
   "name": "python3"
  },
  "language_info": {
   "codemirror_mode": {
    "name": "ipython",
    "version": 3
   },
   "file_extension": ".py",
   "mimetype": "text/x-python",
   "name": "python",
   "nbconvert_exporter": "python",
   "pygments_lexer": "ipython3",
   "version": "3.12.2"
  }
 },
 "nbformat": 4,
 "nbformat_minor": 2
}

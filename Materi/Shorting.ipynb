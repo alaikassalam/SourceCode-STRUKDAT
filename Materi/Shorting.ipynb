{
 "cells": [
  {
   "cell_type": "markdown",
   "metadata": {},
   "source": [
    "# Shorting"
   ]
  },
  {
   "cell_type": "markdown",
   "metadata": {},
   "source": [
    "## Bubble Sort\n",
    "**Bubble sort** adalah cara sederhana untuk mengurutkan data dengan membandingkan elemen satu per satu dan menukar posisi jika diperlukan hingga data terurut dengan benar.  \n",
    "indeks terakhir adalah nilai yang terbesar\n",
    "**ascending** adalah mengurutkan data dari nilai terkecil ke nilai terbesar.\n",
    "data = [4,6,1] ---> [1,4,6]     "
   ]
  },
  {
   "cell_type": "markdown",
   "metadata": {},
   "source": [
    "### Perintah Sweping\n",
    "Swepping penukaran data"
   ]
  },
  {
   "cell_type": "code",
   "execution_count": 8,
   "metadata": {},
   "outputs": [
    {
     "name": "stdout",
     "output_type": "stream",
     "text": [
      "5 6\n",
      "6 5\n"
     ]
    }
   ],
   "source": [
    "a = 5\n",
    "b = 6\n",
    "print(a,b)\n",
    "a,b = b,a\n",
    "print(a,b)"
   ]
  },
  {
   "cell_type": "markdown",
   "metadata": {},
   "source": [
    "### Contoh Buble Short"
   ]
  },
  {
   "cell_type": "code",
   "execution_count": 1,
   "metadata": {},
   "outputs": [
    {
     "name": "stdout",
     "output_type": "stream",
     "text": [
      "iterasi ke-1, jumlah iterasi -3\n",
      "1 = [6, 10, 7, 1]\n",
      "2 = [6, 7, 10, 1]\n",
      "3 = [6, 7, 1, 10]\n",
      "iterasi ke-2, jumlah iterasi -2\n",
      "1 = [6, 7, 1, 10]\n",
      "2 = [6, 1, 7, 10]\n",
      "iterasi ke-3, jumlah iterasi -1\n",
      "1 = [1, 6, 7, 10]\n",
      "data terurut = [1, 6, 7, 10]\n"
     ]
    }
   ],
   "source": [
    "data = [10,6,7,1]\n",
    "for i in range(len(data)-1,0,-1):\n",
    "    print(f'iterasi ke-{len(data)-i}, jumlah iterasi -{i}')\n",
    "    for j in range(i):\n",
    "        if data[j]>data[j+1]:\n",
    "            data[j],data[j+1] = data[j+1],data[j]\n",
    "        print(j+1,'=',data)\n",
    "print(f'data terurut = {data}')"
   ]
  },
  {
   "cell_type": "code",
   "execution_count": 4,
   "metadata": {},
   "outputs": [
    {
     "name": "stdout",
     "output_type": "stream",
     "text": [
      "[6, 7, 1, 10]\n",
      "[6, 1, 7, 10]\n",
      "[1, 6, 7, 10]\n",
      "[1, 6, 7, 10]\n"
     ]
    }
   ],
   "source": [
    "data = [10,6,7,1]\n",
    "swaped = True\n",
    "iterasi = 0\n",
    "\n",
    "while swaped:\n",
    "    swaped = False\n",
    "    iterasi += 1\n",
    "    for j in range(len(data)-1):\n",
    "        if data[j] > data[j+1]:\n",
    "            data[j],data[j+1] = data[j+1],data[j]\n",
    "            swaped = True\n",
    "    print(data)"
   ]
  },
  {
   "cell_type": "code",
   "execution_count": 26,
   "metadata": {},
   "outputs": [
    {
     "data": {
      "text/plain": [
       "[1, 6, 7, 10]"
      ]
     },
     "execution_count": 26,
     "metadata": {},
     "output_type": "execute_result"
    }
   ],
   "source": [
    "def bubbelShort(data):\n",
    "    swaped = True\n",
    "    iterasi = 0 \n",
    "    while swaped:\n",
    "        swaped = False\n",
    "        iterasi += 1\n",
    "        for j in range(len(data)-1):\n",
    "            if data[j] > data[j+1]:\n",
    "                data[j],data[j+1] = data[j+1],data[j]\n",
    "                swaped = True\n",
    "    return data\n",
    "data = [10,6,7,1]\n",
    "bubbelShort(data)"
   ]
  },
  {
   "cell_type": "code",
   "execution_count": 1,
   "metadata": {},
   "outputs": [
    {
     "name": "stdout",
     "output_type": "stream",
     "text": [
      "iterasi ke-1, jumlah iterasi -1, data = [2, 10, 5, 8, 1, 20, 2, 2, 4, 13, 12, 15, 22, 23, 45]\n",
      "iterasi ke-1, jumlah iterasi -2, data = [2, 5, 10, 8, 1, 20, 2, 2, 4, 13, 12, 15, 22, 23, 45]\n",
      "iterasi ke-1, jumlah iterasi -3, data = [2, 5, 8, 10, 1, 20, 2, 2, 4, 13, 12, 15, 22, 23, 45]\n",
      "iterasi ke-1, jumlah iterasi -4, data = [2, 5, 8, 1, 10, 20, 2, 2, 4, 13, 12, 15, 22, 23, 45]\n",
      "iterasi ke-1, jumlah iterasi -5, data = [2, 5, 8, 1, 10, 20, 2, 2, 4, 13, 12, 15, 22, 23, 45]\n",
      "iterasi ke-1, jumlah iterasi -6, data = [2, 5, 8, 1, 10, 2, 20, 2, 4, 13, 12, 15, 22, 23, 45]\n",
      "iterasi ke-1, jumlah iterasi -7, data = [2, 5, 8, 1, 10, 2, 2, 20, 4, 13, 12, 15, 22, 23, 45]\n",
      "iterasi ke-1, jumlah iterasi -8, data = [2, 5, 8, 1, 10, 2, 2, 4, 20, 13, 12, 15, 22, 23, 45]\n",
      "iterasi ke-1, jumlah iterasi -9, data = [2, 5, 8, 1, 10, 2, 2, 4, 13, 20, 12, 15, 22, 23, 45]\n",
      "iterasi ke-1, jumlah iterasi -10, data = [2, 5, 8, 1, 10, 2, 2, 4, 13, 12, 20, 15, 22, 23, 45]\n",
      "iterasi ke-1, jumlah iterasi -11, data = [2, 5, 8, 1, 10, 2, 2, 4, 13, 12, 15, 20, 22, 23, 45]\n",
      "iterasi ke-1, jumlah iterasi -12, data = [2, 5, 8, 1, 10, 2, 2, 4, 13, 12, 15, 20, 22, 23, 45]\n",
      "iterasi ke-1, jumlah iterasi -13, data = [2, 5, 8, 1, 10, 2, 2, 4, 13, 12, 15, 20, 22, 23, 45]\n",
      "iterasi ke-1, jumlah iterasi -14, data = [2, 5, 8, 1, 10, 2, 2, 4, 13, 12, 15, 20, 22, 23, 45]\n",
      "iterasi ke-2, jumlah iterasi -1, data = [2, 5, 8, 1, 10, 2, 2, 4, 13, 12, 15, 20, 22, 23, 45]\n",
      "iterasi ke-2, jumlah iterasi -2, data = [2, 5, 8, 1, 10, 2, 2, 4, 13, 12, 15, 20, 22, 23, 45]\n",
      "iterasi ke-2, jumlah iterasi -3, data = [2, 5, 1, 8, 10, 2, 2, 4, 13, 12, 15, 20, 22, 23, 45]\n",
      "iterasi ke-2, jumlah iterasi -4, data = [2, 5, 1, 8, 10, 2, 2, 4, 13, 12, 15, 20, 22, 23, 45]\n",
      "iterasi ke-2, jumlah iterasi -5, data = [2, 5, 1, 8, 2, 10, 2, 4, 13, 12, 15, 20, 22, 23, 45]\n",
      "iterasi ke-2, jumlah iterasi -6, data = [2, 5, 1, 8, 2, 2, 10, 4, 13, 12, 15, 20, 22, 23, 45]\n",
      "iterasi ke-2, jumlah iterasi -7, data = [2, 5, 1, 8, 2, 2, 4, 10, 13, 12, 15, 20, 22, 23, 45]\n",
      "iterasi ke-2, jumlah iterasi -8, data = [2, 5, 1, 8, 2, 2, 4, 10, 13, 12, 15, 20, 22, 23, 45]\n",
      "iterasi ke-2, jumlah iterasi -9, data = [2, 5, 1, 8, 2, 2, 4, 10, 12, 13, 15, 20, 22, 23, 45]\n",
      "iterasi ke-2, jumlah iterasi -10, data = [2, 5, 1, 8, 2, 2, 4, 10, 12, 13, 15, 20, 22, 23, 45]\n",
      "iterasi ke-2, jumlah iterasi -11, data = [2, 5, 1, 8, 2, 2, 4, 10, 12, 13, 15, 20, 22, 23, 45]\n",
      "iterasi ke-2, jumlah iterasi -12, data = [2, 5, 1, 8, 2, 2, 4, 10, 12, 13, 15, 20, 22, 23, 45]\n",
      "iterasi ke-2, jumlah iterasi -13, data = [2, 5, 1, 8, 2, 2, 4, 10, 12, 13, 15, 20, 22, 23, 45]\n",
      "iterasi ke-2, jumlah iterasi -14, data = [2, 5, 1, 8, 2, 2, 4, 10, 12, 13, 15, 20, 22, 23, 45]\n",
      "iterasi ke-3, jumlah iterasi -1, data = [2, 5, 1, 8, 2, 2, 4, 10, 12, 13, 15, 20, 22, 23, 45]\n",
      "iterasi ke-3, jumlah iterasi -2, data = [2, 1, 5, 8, 2, 2, 4, 10, 12, 13, 15, 20, 22, 23, 45]\n",
      "iterasi ke-3, jumlah iterasi -3, data = [2, 1, 5, 8, 2, 2, 4, 10, 12, 13, 15, 20, 22, 23, 45]\n",
      "iterasi ke-3, jumlah iterasi -4, data = [2, 1, 5, 2, 8, 2, 4, 10, 12, 13, 15, 20, 22, 23, 45]\n",
      "iterasi ke-3, jumlah iterasi -5, data = [2, 1, 5, 2, 2, 8, 4, 10, 12, 13, 15, 20, 22, 23, 45]\n",
      "iterasi ke-3, jumlah iterasi -6, data = [2, 1, 5, 2, 2, 4, 8, 10, 12, 13, 15, 20, 22, 23, 45]\n",
      "iterasi ke-3, jumlah iterasi -7, data = [2, 1, 5, 2, 2, 4, 8, 10, 12, 13, 15, 20, 22, 23, 45]\n",
      "iterasi ke-3, jumlah iterasi -8, data = [2, 1, 5, 2, 2, 4, 8, 10, 12, 13, 15, 20, 22, 23, 45]\n",
      "iterasi ke-3, jumlah iterasi -9, data = [2, 1, 5, 2, 2, 4, 8, 10, 12, 13, 15, 20, 22, 23, 45]\n",
      "iterasi ke-3, jumlah iterasi -10, data = [2, 1, 5, 2, 2, 4, 8, 10, 12, 13, 15, 20, 22, 23, 45]\n",
      "iterasi ke-3, jumlah iterasi -11, data = [2, 1, 5, 2, 2, 4, 8, 10, 12, 13, 15, 20, 22, 23, 45]\n",
      "iterasi ke-3, jumlah iterasi -12, data = [2, 1, 5, 2, 2, 4, 8, 10, 12, 13, 15, 20, 22, 23, 45]\n",
      "iterasi ke-3, jumlah iterasi -13, data = [2, 1, 5, 2, 2, 4, 8, 10, 12, 13, 15, 20, 22, 23, 45]\n",
      "iterasi ke-3, jumlah iterasi -14, data = [2, 1, 5, 2, 2, 4, 8, 10, 12, 13, 15, 20, 22, 23, 45]\n",
      "iterasi ke-4, jumlah iterasi -1, data = [1, 2, 5, 2, 2, 4, 8, 10, 12, 13, 15, 20, 22, 23, 45]\n",
      "iterasi ke-4, jumlah iterasi -2, data = [1, 2, 5, 2, 2, 4, 8, 10, 12, 13, 15, 20, 22, 23, 45]\n",
      "iterasi ke-4, jumlah iterasi -3, data = [1, 2, 2, 5, 2, 4, 8, 10, 12, 13, 15, 20, 22, 23, 45]\n",
      "iterasi ke-4, jumlah iterasi -4, data = [1, 2, 2, 2, 5, 4, 8, 10, 12, 13, 15, 20, 22, 23, 45]\n",
      "iterasi ke-4, jumlah iterasi -5, data = [1, 2, 2, 2, 4, 5, 8, 10, 12, 13, 15, 20, 22, 23, 45]\n",
      "iterasi ke-4, jumlah iterasi -6, data = [1, 2, 2, 2, 4, 5, 8, 10, 12, 13, 15, 20, 22, 23, 45]\n",
      "iterasi ke-4, jumlah iterasi -7, data = [1, 2, 2, 2, 4, 5, 8, 10, 12, 13, 15, 20, 22, 23, 45]\n",
      "iterasi ke-4, jumlah iterasi -8, data = [1, 2, 2, 2, 4, 5, 8, 10, 12, 13, 15, 20, 22, 23, 45]\n",
      "iterasi ke-4, jumlah iterasi -9, data = [1, 2, 2, 2, 4, 5, 8, 10, 12, 13, 15, 20, 22, 23, 45]\n",
      "iterasi ke-4, jumlah iterasi -10, data = [1, 2, 2, 2, 4, 5, 8, 10, 12, 13, 15, 20, 22, 23, 45]\n",
      "iterasi ke-4, jumlah iterasi -11, data = [1, 2, 2, 2, 4, 5, 8, 10, 12, 13, 15, 20, 22, 23, 45]\n",
      "iterasi ke-4, jumlah iterasi -12, data = [1, 2, 2, 2, 4, 5, 8, 10, 12, 13, 15, 20, 22, 23, 45]\n",
      "iterasi ke-4, jumlah iterasi -13, data = [1, 2, 2, 2, 4, 5, 8, 10, 12, 13, 15, 20, 22, 23, 45]\n",
      "iterasi ke-4, jumlah iterasi -14, data = [1, 2, 2, 2, 4, 5, 8, 10, 12, 13, 15, 20, 22, 23, 45]\n",
      "iterasi ke-5, jumlah iterasi -1, data = [1, 2, 2, 2, 4, 5, 8, 10, 12, 13, 15, 20, 22, 23, 45]\n",
      "iterasi ke-5, jumlah iterasi -2, data = [1, 2, 2, 2, 4, 5, 8, 10, 12, 13, 15, 20, 22, 23, 45]\n",
      "iterasi ke-5, jumlah iterasi -3, data = [1, 2, 2, 2, 4, 5, 8, 10, 12, 13, 15, 20, 22, 23, 45]\n",
      "iterasi ke-5, jumlah iterasi -4, data = [1, 2, 2, 2, 4, 5, 8, 10, 12, 13, 15, 20, 22, 23, 45]\n",
      "iterasi ke-5, jumlah iterasi -5, data = [1, 2, 2, 2, 4, 5, 8, 10, 12, 13, 15, 20, 22, 23, 45]\n",
      "iterasi ke-5, jumlah iterasi -6, data = [1, 2, 2, 2, 4, 5, 8, 10, 12, 13, 15, 20, 22, 23, 45]\n",
      "iterasi ke-5, jumlah iterasi -7, data = [1, 2, 2, 2, 4, 5, 8, 10, 12, 13, 15, 20, 22, 23, 45]\n",
      "iterasi ke-5, jumlah iterasi -8, data = [1, 2, 2, 2, 4, 5, 8, 10, 12, 13, 15, 20, 22, 23, 45]\n",
      "iterasi ke-5, jumlah iterasi -9, data = [1, 2, 2, 2, 4, 5, 8, 10, 12, 13, 15, 20, 22, 23, 45]\n",
      "iterasi ke-5, jumlah iterasi -10, data = [1, 2, 2, 2, 4, 5, 8, 10, 12, 13, 15, 20, 22, 23, 45]\n",
      "iterasi ke-5, jumlah iterasi -11, data = [1, 2, 2, 2, 4, 5, 8, 10, 12, 13, 15, 20, 22, 23, 45]\n",
      "iterasi ke-5, jumlah iterasi -12, data = [1, 2, 2, 2, 4, 5, 8, 10, 12, 13, 15, 20, 22, 23, 45]\n",
      "iterasi ke-5, jumlah iterasi -13, data = [1, 2, 2, 2, 4, 5, 8, 10, 12, 13, 15, 20, 22, 23, 45]\n",
      "iterasi ke-5, jumlah iterasi -14, data = [1, 2, 2, 2, 4, 5, 8, 10, 12, 13, 15, 20, 22, 23, 45]\n",
      "data terurut = [1, 2, 2, 2, 4, 5, 8, 10, 12, 13, 15, 20, 22, 23, 45]\n"
     ]
    }
   ],
   "source": [
    "data = [10,2,5,8,1,20,2,2,4,13,12,15,22,23,45]\n",
    "is_swapped = True\n",
    "iterasi_ke = 0\n",
    "\n",
    "while is_swapped:\n",
    "    is_swapped = False\n",
    "    iterasi_ke += 1\n",
    "    for j in range(len(data) - 1):\n",
    "        if data[j] > data[j + 1]:\n",
    "            data[j], data[j + 1] = data[j + 1], data[j]\n",
    "            is_swapped = True\n",
    "        print(f'iterasi ke-{iterasi_ke}, jumlah iterasi -{j+1}, data = {data}')\n",
    "\n",
    "print(f'data terurut = {data}')\n"
   ]
  },
  {
   "cell_type": "code",
   "execution_count": 4,
   "metadata": {},
   "outputs": [
    {
     "name": "stdout",
     "output_type": "stream",
     "text": [
      "awal [3, 8, 9, 2, 4]\n",
      "3 8\n",
      "8 9\n",
      "9 2\n",
      "9 4\n",
      "[3, 8, 2, 4, 9]\n",
      "\n",
      "awal [3, 8, 2, 4, 9]\n",
      "3 8\n",
      "8 2\n",
      "8 4\n",
      "[3, 2, 4, 8, 9]\n",
      "\n",
      "awal [3, 2, 4, 8, 9]\n",
      "3 2\n",
      "3 4\n",
      "[2, 3, 4, 8, 9]\n",
      "\n",
      "awal [2, 3, 4, 8, 9]\n",
      "2 3\n",
      "[2, 3, 4, 8, 9]\n",
      "\n"
     ]
    }
   ],
   "source": [
    "\n",
    "data = [3,8,9,2,4]\n",
    "for count in range(1,len(data)):\n",
    "    print('awal', data)\n",
    "    for i in range(len(data)-count):\n",
    "        print(data[i],data[i+1])\n",
    "        if data[i] > data[i+1]:\n",
    "            temp = data [i+1]\n",
    "            data[i+1] = data[i]\n",
    "            data[i] = temp\n",
    "    print(data)\n",
    "    print('')"
   ]
  },
  {
   "cell_type": "code",
   "execution_count": 19,
   "metadata": {},
   "outputs": [
    {
     "name": "stdout",
     "output_type": "stream",
     "text": [
      "iterasi luar :  [3, 8, 9, 2, 4]\n",
      "iterasi dalam :  3 8\n",
      "iterasi dalam :  3 9\n",
      "iterasi dalam :  3 2\n",
      "iterasi dalam :  2 4\n",
      "hasil akhir :  [8, 9, 3, 4, 2]\n",
      "\n",
      "iterasi luar :  [8, 9, 3, 4, 2]\n",
      "iterasi dalam :  8 9\n",
      "iterasi dalam :  8 3\n",
      "iterasi dalam :  3 4\n",
      "hasil akhir :  [9, 8, 4, 3, 2]\n",
      "\n",
      "iterasi luar :  [9, 8, 4, 3, 2]\n",
      "iterasi dalam :  9 8\n",
      "iterasi dalam :  8 4\n",
      "hasil akhir :  [9, 8, 4, 3, 2]\n",
      "\n",
      "iterasi luar :  [9, 8, 4, 3, 2]\n",
      "iterasi dalam :  9 8\n",
      "hasil akhir :  [9, 8, 4, 3, 2]\n",
      "\n",
      "hasil akhir :  [9, 8, 4, 3, 2]\n"
     ]
    }
   ],
   "source": [
    "data = [3,8,9,2,4]\n",
    "for count in range(1,len(data)):\n",
    "    print('iterasi luar : ', data)\n",
    "    for i in range(len(data)-count):\n",
    "        print('iterasi dalam : ',data[i],data[i+1])\n",
    "        if data[i] < data[i+1]:\n",
    "            temp = data [i+1]\n",
    "            data[i+1] = data[i]\n",
    "            data[i] = temp\n",
    "    print('hasil akhir : ',data)\n",
    "    print('')\n",
    "print('hasil akhir : ',data)\n",
    "    "
   ]
  },
  {
   "cell_type": "markdown",
   "metadata": {},
   "source": []
  },
  {
   "cell_type": "code",
   "execution_count": 24,
   "metadata": {},
   "outputs": [
    {
     "name": "stdout",
     "output_type": "stream",
     "text": [
      "iterasi luar :  [8, 9, 2, 4]\n",
      "iterasi dalam :  8 - 9\n",
      "iterasi dalam :  8 - 2\n",
      "iterasi dalam :  2 - 4\n",
      "hasil akhir :  [9, 8, 4, 2]\n",
      "\n",
      "iterasi luar :  [9, 8, 4, 2]\n",
      "iterasi dalam :  9 - 8\n",
      "iterasi dalam :  8 - 4\n",
      "hasil akhir :  [9, 8, 4, 2]\n",
      "\n",
      "iterasi luar :  [9, 8, 4, 2]\n",
      "iterasi dalam :  9 - 8\n",
      "hasil akhir :  [9, 8, 4, 2]\n",
      "\n",
      "hasil akhir :  [9, 8, 4, 2]\n"
     ]
    }
   ],
   "source": [
    "data = [8,9,2,4]\n",
    "for count in range(1,len(data)):\n",
    "    print('iterasi luar : ', data)\n",
    "    for i in range(len(data)-count):\n",
    "        print('iterasi dalam : ',data[i],'-',data[i+1])\n",
    "        if data[i] < data[i+1]:\n",
    "            data[i],data[i+1] = data[i+1],data[i]\n",
    "    print('hasil akhir : ',data)\n",
    "    print('')\n",
    "print('hasil akhir : ',data)\n",
    "    "
   ]
  },
  {
   "cell_type": "code",
   "execution_count": 31,
   "metadata": {},
   "outputs": [
    {
     "name": "stdout",
     "output_type": "stream",
     "text": [
      "data awal : [10, 8, 9, 2, 4]\n",
      "iterasi luar ke-1 :\n",
      "iterasi dalam ke-1\n",
      "bandingkan 10 = 8\n",
      "[8, 10, 9, 2, 4]\n",
      "iterasi dalam ke-2\n",
      "bandingkan 10 = 9\n",
      "[8, 9, 10, 2, 4]\n",
      "iterasi dalam ke-3\n",
      "bandingkan 10 = 2\n",
      "[8, 9, 2, 10, 4]\n",
      "iterasi dalam ke-4\n",
      "bandingkan 10 = 4\n",
      "[8, 9, 2, 4, 10]\n",
      "\n",
      "iterasi luar ke-2 :\n",
      "bandingkan 2 = 9\n",
      "[8, 2, 9, 4, 10]\n",
      "bandingkan 2 = 8\n",
      "[2, 8, 9, 4, 10]\n",
      "\n",
      "iterasi luar ke-3 :\n",
      "iterasi dalam ke-1\n",
      "bandingkan 2 = 8\n",
      "[2, 8, 9, 4, 10]\n",
      "iterasi dalam ke-2\n",
      "bandingkan 8 = 9\n",
      "[2, 8, 9, 4, 10]\n",
      "\n",
      "iterasi luar ke-4 :\n",
      "\n",
      "data akhir : [2, 8, 9, 4, 10]\n"
     ]
    }
   ],
   "source": [
    "data=[10,8,9,2,4]\n",
    "print(f'data awal : {data}')\n",
    "count = 1  \n",
    "for i in range(1,len(data)):\n",
    "    print(f'iterasi luar ke-{i} :')\n",
    "    if i%2==1:\n",
    "        for j in range(len(data)-i):\n",
    "            print(f'iterasi dalam ke-{j+1}')\n",
    "            print(f'bandingkan {data[j]} = {data[j+1]}')\n",
    "            if data[j+1]<data[j]:\n",
    "                temp=data[j+1]\n",
    "                data[j+1]=data[j]\n",
    "                data[j]=temp\n",
    "            print(data)\n",
    "        print()\n",
    "    else:\n",
    "        for j in range(len(data)-(1+count),0,-1):\n",
    "            print(f'bandingkan {data[j]} = {data[j-1]}')\n",
    "            if data[j]<data[j-1]:\n",
    "                temp=data[j-1]\n",
    "                data[j-1]=data[j]\n",
    "                data[j]=temp\n",
    "            print(data)\n",
    "        print()\n",
    "    count+=1  \n",
    "print(f'data akhir : {data}')\n"
   ]
  },
  {
   "cell_type": "markdown",
   "metadata": {},
   "source": [
    "### contoh pake fungsi "
   ]
  },
  {
   "cell_type": "code",
   "execution_count": 13,
   "metadata": {},
   "outputs": [
    {
     "name": "stdout",
     "output_type": "stream",
     "text": [
      "[4, 7, 11, 15, 20, 23, 32, 99]\n"
     ]
    }
   ],
   "source": [
    "def BubbleSort(val):\n",
    "    for passnum in range(len(val)-1,0,-1):\n",
    "        for i in range(passnum):\n",
    "            if val[i]>val[i+1]:\n",
    "                temp = val[i]\n",
    "                val[i] = val[i+1]\n",
    "                val[i+1] = temp\n",
    "\n",
    "DaftarAngka = [23,7,32,99,4,15,11,20]\n",
    "BubbleSort(DaftarAngka)\n",
    "print(DaftarAngka)"
   ]
  },
  {
   "cell_type": "markdown",
   "metadata": {},
   "source": [
    "## Selection Short\n",
    "proses seleksi "
   ]
  },
  {
   "cell_type": "code",
   "execution_count": 8,
   "metadata": {},
   "outputs": [
    {
     "name": "stdout",
     "output_type": "stream",
     "text": [
      "[3, 8, 9, 2, 4]\n",
      "0 - 1\n",
      "1 - 2\n",
      "2 - 3\n",
      "2 - 4\n",
      "data akhir :  [3, 8, 9, 2, 9]\n",
      "\n",
      "[3, 8, 9, 2, 9]\n",
      "0 - 1\n",
      "1 - 2\n",
      "2 - 3\n",
      "data akhir :  [3, 8, 9, 9, 9]\n",
      "\n",
      "[3, 8, 9, 9, 9]\n",
      "0 - 1\n",
      "1 - 2\n",
      "data akhir :  [3, 8, 9, 9, 9]\n",
      "\n",
      "[3, 8, 9, 9, 9]\n",
      "0 - 1\n",
      "data akhir :  [3, 8, 9, 9, 9]\n",
      "\n"
     ]
    }
   ],
   "source": [
    "data = [3,8,9,2,4]\n",
    "\n",
    "for count in range(len(data)-1):\n",
    "    print(data)\n",
    "    indMaks = 0\n",
    "    for i in range(1,len(data)-count):\n",
    "        print(indMaks,'-',i)\n",
    "        if data[indMaks] < data[i]:\n",
    "            indMaks = i\n",
    "    temp = data[len(data)-(count+1)] = data[indMaks]\n",
    "    data[indMaks] = temp \n",
    "    print('data akhir : ',data)\n",
    "    print('')"
   ]
  },
  {
   "cell_type": "code",
   "execution_count": 19,
   "metadata": {},
   "outputs": [
    {
     "name": "stdout",
     "output_type": "stream",
     "text": [
      "[2, 3, 4, 8, 9]\n"
     ]
    }
   ],
   "source": [
    "data = [3,8,9,2,4]\n",
    "for i in range(len(data)-1):\n",
    "    indexMaks = i\n",
    "    for j in range(i+1,len(data)):\n",
    "        if data[j] < data[indexMaks]:\n",
    "            indexMaks = j\n",
    "    data[i],data[indexMaks] = data[indexMaks],data[i]\n",
    "print(data)"
   ]
  },
  {
   "cell_type": "code",
   "execution_count": 23,
   "metadata": {},
   "outputs": [
    {
     "data": {
      "text/plain": [
       "[2, 3, 4, 8, 9]"
      ]
     },
     "execution_count": 23,
     "metadata": {},
     "output_type": "execute_result"
    }
   ],
   "source": [
    "def insert(data):\n",
    "    for i in range(len(data)-1):\n",
    "        count = i \n",
    "        for j in range(i+1,len(data)):\n",
    "            if data[j] < data[count]:\n",
    "                count = j \n",
    "        data[i],data[count] = data[count],data[i]\n",
    "    return data\n",
    "\n",
    "data = [3,8,9,2,4]\n",
    "insert(data)"
   ]
  },
  {
   "cell_type": "markdown",
   "metadata": {},
   "source": [
    "## Insertion Short\n"
   ]
  },
  {
   "cell_type": "markdown",
   "metadata": {},
   "source": [
    "algoritma dari insertion short : \n",
    "1. Mulai dari elemen kedua (indeks 1) hingga elemen terakhir dalam data.  \n",
    "2. Ambil elemen tersebut dan simpan nilainya dalam variabel sementara (misalnya, `key`).  \n",
    "3. Bandingkan `key` dengan elemen-elemen di bagian yang sudah diurutkan (mulai dari elemen terakhir) sampai menemukan posisi yang tepat untuk `key` dalam bagian yang sudah diurutkan.  \n",
    "4. Geser semua elemen yang lebih besar dari `key` ke posisi sebelah kanan.  \n",
    "5. Masukkan `key` ke posisi yang sesuai yang telah ditemukan.  \n",
    "6. Ulangi langkah 2-5 untuk setiap elemen dalam data hingga seluruh data terurut.  \n"
   ]
  },
  {
   "cell_type": "code",
   "execution_count": 26,
   "metadata": {},
   "outputs": [
    {
     "name": "stdout",
     "output_type": "stream",
     "text": [
      "key 5\n",
      "indeks ke- -1 = [10, 10, 7, 9]\n",
      "di insert :  [5, 10, 7, 9]\n",
      "key 7\n",
      "indeks ke- 0 = [5, 10, 10, 9]\n",
      "di insert :  [5, 7, 10, 9]\n",
      "key 9\n",
      "indeks ke- 1 = [5, 7, 10, 10]\n",
      "di insert :  [5, 7, 9, 10]\n"
     ]
    }
   ],
   "source": [
    "data = [10,5,7,9]\n",
    "\n",
    "for i in range(1,len(data)):\n",
    "    print(f'[{i}] = {data[i]}')\n",
    "    key = data[i]\n",
    "    print('key',key)\n",
    "    j = i-1\n",
    "    while j>=0 and key<=data[j]: \n",
    "        # print('bandingkan dengn indeks :',j)\n",
    "        data[j+1] = data[j]\n",
    "        j -= 1\n",
    "        print('indeks ke-',j,' =' ,data)\n",
    "    data[j+1] = key\n",
    "    print('di insert : ',data)"
   ]
  },
  {
   "cell_type": "code",
   "execution_count": 35,
   "metadata": {},
   "outputs": [
    {
     "name": "stdout",
     "output_type": "stream",
     "text": [
      "[1] = 2\n",
      "cek indeks : 0\n",
      "data :  [2, 7, 3, 5, 8]\n",
      "[2] = 3\n",
      "cek indeks : 1\n",
      "data :  [2, 3, 7, 5, 8]\n",
      "[3] = 5\n",
      "cek indeks : 2\n",
      "data :  [2, 3, 5, 7, 8]\n",
      "[4] = 8\n",
      "data :  [2, 3, 5, 7, 8]\n"
     ]
    }
   ],
   "source": [
    "data = [7,2,3,5,8]\n",
    "\n",
    "for i in range(1,len(data)):\n",
    "    print(f'[{i}] = {data[i]}')\n",
    "    key = data[i]\n",
    "    j = i-1\n",
    "    while j>=0 and key<=data[j]: \n",
    "        print('cek indeks :',j)\n",
    "        data[j+1] = data[j]\n",
    "        j -= 1\n",
    "    data[j+1] = key\n",
    "    print('data : ',data)"
   ]
  },
  {
   "cell_type": "code",
   "execution_count": null,
   "metadata": {},
   "outputs": [],
   "source": [
    "data = [7,2,3,5,8]\n",
    "\n",
    "for i in range(len(data)-2,-1,-1):\n",
    "    key = data[i]\n",
    "    j = i+1\n",
    "    while j < len(data) and  key > data[j] :\n",
    "        print(i,'bandigkan',j)\n",
    "        data[j - 1] = data[j]\n",
    "        j +- 1\n",
    "        print(data)\n",
    "    data[j - 1] = key\n",
    "    print()\n",
    "print('data:', data)"
   ]
  }
 ],
 "metadata": {
  "kernelspec": {
   "display_name": "Python 3",
   "language": "python",
   "name": "python3"
  },
  "language_info": {
   "codemirror_mode": {
    "name": "ipython",
    "version": 3
   },
   "file_extension": ".py",
   "mimetype": "text/x-python",
   "name": "python",
   "nbconvert_exporter": "python",
   "pygments_lexer": "ipython3",
   "version": "3.12.2"
  }
 },
 "nbformat": 4,
 "nbformat_minor": 2
}

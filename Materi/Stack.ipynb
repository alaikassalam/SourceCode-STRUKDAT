{
 "cells": [
  {
   "cell_type": "markdown",
   "metadata": {},
   "source": [
    "stack (top of the stack)\n",
    "operasi stack :\n",
    "- stack () : inisialisasi stack\n",
    "- push (data) : penambahan data baru \n",
    "- pop () : remove data yang ada di top \n",
    "- peek () : melihat data yang terdapat di top \n",
    "- isEmpty () : memeriksa apakah stack dalam keadaan kosong \n",
    "- size () : mengecek jumlah data pada stack\n",
    "\n",
    "implementasi menggunakan liss\n",
    "\n",
    "c = [2,4,3,..n] top terletak pada index n "
   ]
  },
  {
   "cell_type": "code",
   "execution_count": 2,
   "metadata": {},
   "outputs": [],
   "source": [
    "def stack():\n",
    "    s=[]\n",
    "    return (s)\n",
    "def push(s,data):\n",
    "    s.append(data)\n",
    "def pop(s):\n",
    "    data=s.pop()\n",
    "    return(data)\n",
    "def peek(s):\n",
    "    return(s[len(s)-1])\n",
    "def isEmpty(s):\n",
    "    return (s==[])\n",
    "def size(s):\n",
    "    return(len(s))"
   ]
  },
  {
   "cell_type": "markdown",
   "metadata": {},
   "source": [
    "# Konversi Biner"
   ]
  },
  {
   "cell_type": "code",
   "execution_count": 17,
   "metadata": {},
   "outputs": [
    {
     "name": "stdout",
     "output_type": "stream",
     "text": [
      "Desimal : 13\n",
      "Biner : 1101\n"
     ]
    }
   ],
   "source": [
    "def dectobin(bil):\n",
    "    st = stack()\n",
    "    divBil = bil\n",
    "    while divBil > 0:\n",
    "        push(st,divBil%2)\n",
    "        divBil = divBil//2\n",
    "    biner = ''\n",
    "    while not(isEmpty(st)):\n",
    "        biner = biner+str(pop(st))\n",
    "    return biner\n",
    "a = int(input('input bilangan : '))\n",
    "b = dectobin(a)\n",
    "print(f'Desimal : {a}')\n",
    "print(f'Biner : {b}')\n"
   ]
  },
  {
   "cell_type": "code",
   "execution_count": 18,
   "metadata": {},
   "outputs": [
    {
     "name": "stdout",
     "output_type": "stream",
     "text": [
      "Bilangan biner: 1101\n",
      "Bilangan desimal: 13\n"
     ]
    }
   ],
   "source": [
    "def binary_to_decimal(binary_str):\n",
    "    decimal_num = 0\n",
    "    binary_str = binary_str[::-1]  # Membalik string biner untuk memproses dari digit terkecil\n",
    "    exponent = 0\n",
    "\n",
    "    for digit in binary_str:\n",
    "        if digit == '1':\n",
    "            decimal_num += 2 ** exponent\n",
    "        exponent += 1\n",
    "\n",
    "    return decimal_num\n",
    "\n",
    "# Contoh penggunaan:\n",
    "binary_number = \"1101\"\n",
    "decimal_number = binary_to_decimal(binary_number)\n",
    "print(\"Bilangan biner:\", binary_number)\n",
    "print(\"Bilangan desimal:\", decimal_number)"
   ]
  },
  {
   "cell_type": "markdown",
   "metadata": {},
   "source": [
    "# Sering muncul"
   ]
  },
  {
   "cell_type": "code",
   "execution_count": 12,
   "metadata": {},
   "outputs": [
    {
     "name": "stdout",
     "output_type": "stream",
     "text": [
      "List asli: [1, 2, 2, 3, 4, 4, 4, 5]\n",
      "List setelah menghapus duplikat berturut-turut: [1, 2, 3, 4, 5]\n"
     ]
    }
   ],
   "source": [
    "def seringMuncul(lst):\n",
    "    result_stack = stack()\n",
    "\n",
    "    for item in lst:\n",
    "        # Periksa apakah stack kosong atau item saat ini tidak sama dengan elemen teratas stack\n",
    "        if isEmpty(result_stack) or item != peek(result_stack):\n",
    "            push(result_stack, item)\n",
    "\n",
    "    result_list = []\n",
    "    while not isEmpty(result_stack):\n",
    "        result_list.insert(0, pop(result_stack))  # Masukkan elemen teratas stack ke awal list\n",
    "\n",
    "    return result_list\n",
    "\n",
    "# Contoh penggunaan:\n",
    "input_list = [1, 2, 2, 3, 4, 4, 4, 5]\n",
    "result_list = seringMuncul(input_list)\n",
    "print(\"List asli:\", input_list)\n",
    "print(\"List setelah menghapus duplikat berturut-turut:\", result_list)"
   ]
  },
  {
   "cell_type": "markdown",
   "metadata": {},
   "source": [
    "# ReverseWord"
   ]
  },
  {
   "cell_type": "code",
   "execution_count": 3,
   "metadata": {},
   "outputs": [
    {
     "name": "stdout",
     "output_type": "stream",
     "text": [
      "sakiala\n"
     ]
    }
   ],
   "source": [
    "def reverseWord(word):\n",
    "    dataStack=stack()\n",
    "    for ch in word:\n",
    "        push(dataStack,ch)\n",
    "    temp=''\n",
    "    while not(isEmpty(dataStack)):\n",
    "        temp=temp+pop(dataStack)\n",
    "    return temp\n",
    "a = 'alaikas'\n",
    "b = reverseWord(a)\n",
    "print(b)"
   ]
  },
  {
   "cell_type": "code",
   "execution_count": 6,
   "metadata": {},
   "outputs": [
    {
     "name": "stdout",
     "output_type": "stream",
     "text": [
      "String asli: hello\n",
      "String terbalik: olleh\n"
     ]
    }
   ],
   "source": [
    "# latihan \n",
    "def reverse_string(string):\n",
    "    st = stack()\n",
    "    reversed_string = \"\"\n",
    "    for char in string:\n",
    "        push(st,char)\n",
    "    while not isEmpty(st):\n",
    "        reversed_string += pop(st)\n",
    "    return reversed_string\n",
    "\n",
    "# Contoh penggunaan:\n",
    "input_string = \"hello\"\n",
    "reversed_string = reverse_string(input_string)\n",
    "print(\"String asli:\", input_string)\n",
    "print(\"String terbalik:\", reversed_string)\n"
   ]
  },
  {
   "cell_type": "markdown",
   "metadata": {},
   "source": [
    "# Cek Parenteses"
   ]
  },
  {
   "cell_type": "code",
   "execution_count": 4,
   "metadata": {},
   "outputs": [
    {
     "name": "stdout",
     "output_type": "stream",
     "text": [
      "(True, 'kurung pas')\n"
     ]
    }
   ],
   "source": [
    "def cekParentes(math):\n",
    "    st = stack()\n",
    "    kurungBuka = '('\n",
    "    kurungTutup = ')'\n",
    "    for karakter in math:\n",
    "        if karakter in kurungBuka:\n",
    "            push(st,karakter)\n",
    "        elif karakter in kurungTutup:\n",
    "            if isEmpty(st):\n",
    "                return False\n",
    "            else:\n",
    "                pop(st)\n",
    "    if isEmpty(st):\n",
    "        return True, 'kurung pas'\n",
    "    else:\n",
    "        return False, 'kelebihan kurung'\n",
    "a = \"(4+3)*4\"\n",
    "result = cekParentes(a)\n",
    "print(result)\n"
   ]
  },
  {
   "cell_type": "code",
   "execution_count": 8,
   "metadata": {},
   "outputs": [
    {
     "name": "stdout",
     "output_type": "stream",
     "text": [
      "Urutan tanda kurung valid.\n"
     ]
    }
   ],
   "source": [
    "# latihan\n",
    "def is_valid_parentheses(parentheses):\n",
    "    st = stack()\n",
    "    open_parentheses = \"([{\"\n",
    "    close_parentheses = \")]}\"\n",
    "    for char in parentheses:\n",
    "        if char in open_parentheses:\n",
    "            push(st,char)\n",
    "        elif char in close_parentheses:\n",
    "            if isEmpty(st):\n",
    "                return False\n",
    "            elif close_parentheses.index(char) != open_parentheses.index(pop(st)):\n",
    "                return False\n",
    "    return isEmpty(st)\n",
    "\n",
    "# Contoh penggunaan:\n",
    "input_string = \"{[()]}\"\n",
    "if is_valid_parentheses(input_string):\n",
    "    print(\"Urutan tanda kurung valid.\")\n",
    "else:\n",
    "    print(\"Urutan tanda kurung tidak valid.\")\n"
   ]
  },
  {
   "cell_type": "code",
   "execution_count": 13,
   "metadata": {},
   "outputs": [
    {
     "name": "stdout",
     "output_type": "stream",
     "text": [
      "(False, 'kurang kurung tutup')\n"
     ]
    }
   ],
   "source": [
    "def cekParenteses(math):\n",
    "    st = stack()\n",
    "    kurung = {\n",
    "        ')':'(',\n",
    "        ']':'[',\n",
    "        '}':'{'\n",
    "    }\n",
    "    for ch in math:\n",
    "        # print(st)\n",
    "        if ch in kurung.values():\n",
    "            push(st,ch)\n",
    "        elif ch in kurung.keys():\n",
    "            if isEmpty(st):\n",
    "                return False, 'kurang kurung buka'\n",
    "            else:\n",
    "                temp = pop(st)\n",
    "                if temp!=kurung[ch]:\n",
    "                    return False, 'kurung tidak sama'\n",
    "        # print(st)\n",
    "    if isEmpty(st):\n",
    "        return True, 'cocok'\n",
    "    else:\n",
    "        return False, 'kurang kurung tutup'\n",
    "a = \"{(4+3)*4\"\n",
    "b = cekParenteses(a)\n",
    "print(b)"
   ]
  },
  {
   "cell_type": "markdown",
   "metadata": {},
   "source": [
    "# Ekpressi Aritmatika"
   ]
  },
  {
   "cell_type": "code",
   "execution_count": 3,
   "metadata": {},
   "outputs": [
    {
     "name": "stdout",
     "output_type": "stream",
     "text": [
      "-4\n"
     ]
    }
   ],
   "source": [
    "def Postfix(strMath):\n",
    "    st = stack()\n",
    "    operand = ['1','2','3']\n",
    "    operator = ['+','-','x']\n",
    "    for data in strMath:\n",
    "        if data in operand:\n",
    "            push(st,data)\n",
    "        elif data in operator:\n",
    "            temp2 = pop(st)\n",
    "            temp1 = pop(st)\n",
    "            if data == '+':\n",
    "                hasil = int(temp1) + int(temp2)\n",
    "            elif data == '-':\n",
    "                hasil = int(temp1) - int(temp2)\n",
    "            elif data == 'x':\n",
    "                hasil = int(temp1) * int(temp2)\n",
    "            result = push(st,hasil)\n",
    "        # print(data,st)\n",
    "    result = pop(st)\n",
    "    return result         \n",
    "a = '123+-'\n",
    "b = Postfix(a)\n",
    "print(b)"
   ]
  },
  {
   "cell_type": "code",
   "execution_count": 21,
   "metadata": {},
   "outputs": [
    {
     "name": "stdout",
     "output_type": "stream",
     "text": [
      "Hasil evaluasi ekspresi postfix: 14\n"
     ]
    }
   ],
   "source": [
    "# latiahan\n",
    "def evaluate_postfix(expression):\n",
    "    tokens = expression.split()\n",
    "    st = stack()\n",
    "\n",
    "    for token in tokens:\n",
    "        if token.isdigit():\n",
    "            push(st, int(token))\n",
    "        else:\n",
    "            operand2 = pop(st)\n",
    "            operand1 = pop(st)\n",
    "            result = perform_operation(token, operand1, operand2)\n",
    "            push(st, result)\n",
    "\n",
    "    return pop(st)\n",
    "\n",
    "def perform_operation(operator, operand1, operand2):\n",
    "    if operator == '+':\n",
    "        return operand1 + operand2\n",
    "    elif operator == '-':\n",
    "        return operand1 - operand2\n",
    "    elif operator == '*':\n",
    "        return operand1 * operand2\n",
    "    elif operator == '/':\n",
    "        return operand1 / operand2\n",
    "    else:\n",
    "        raise ValueError(\"Operator tidak valid\")\n",
    "\n",
    "# Contoh penggunaan:\n",
    "postfix_expression = \"3 4 + 2 *\"\n",
    "result = evaluate_postfix(postfix_expression)\n",
    "print(\"Hasil evaluasi ekspresi postfix:\", result)"
   ]
  },
  {
   "cell_type": "markdown",
   "metadata": {},
   "source": [
    "# Pr infix ke postfix"
   ]
  },
  {
   "cell_type": "code",
   "execution_count": 5,
   "metadata": {},
   "outputs": [
    {
     "name": "stdout",
     "output_type": "stream",
     "text": [
      "A*(B+C)\n",
      "\n",
      "yang dibaca :  A\n",
      "hasil :   A\n",
      "stack :  []\n",
      "\n",
      "yang dibaca :  *\n",
      "hasil :   A\n",
      "stack :  ['*']\n",
      "\n",
      "yang dibaca :  (\n",
      "hasil :   A\n",
      "stack :  ['*', '(']\n",
      "\n",
      "yang dibaca :  B\n",
      "hasil :   AB\n",
      "stack :  ['*', '(']\n",
      "\n",
      "yang dibaca :  +\n",
      "hasil :   AB\n",
      "stack :  ['*', '(', '+']\n",
      "\n",
      "yang dibaca :  C\n",
      "hasil :   ABC\n",
      "stack :  ['*', '(', '+']\n",
      "\n",
      "yang dibaca :  )\n",
      "hasil :   ABC+\n",
      "stack :  ['*']\n",
      "hasil :   ABC+*\n",
      "Infix :  A*(B+C)\n",
      "Postfix :   ABC+*\n"
     ]
    }
   ],
   "source": [
    "\n",
    "def infixtopostfix(infix):\n",
    "    operator = ['+','-','*','/','(',')']\n",
    "    prioritas = {\n",
    "        '*' : 3,\n",
    "        '/' : 3,\n",
    "        '+' : 2,\n",
    "        '-' : 2,\n",
    "        '(' : 1,\n",
    "        ')' : 1\n",
    "    }\n",
    "    st = stack()\n",
    "    hasil = ' '\n",
    "    print(infix)\n",
    "    for i in infix:\n",
    "        print()\n",
    "        print('yang dibaca : ',i)\n",
    "        if i not in operator:\n",
    "            hasil += i\n",
    "        \n",
    "        elif i == ')':\n",
    "            while peek(st) != '(':\n",
    "                hasil += pop(st)\n",
    "            pop(st)\n",
    "            \n",
    "        elif i == '(':\n",
    "            push(st,i)\n",
    "        else:\n",
    "            while not isEmpty(st) and peek(st) != '(' and prioritas[i] <= prioritas[peek[st]]:\n",
    "                hasil += pop(st)\n",
    "            push(st,i)\n",
    "        print('hasil : ',hasil)\n",
    "        print('stack : ',st)\n",
    "    while not isEmpty(st):\n",
    "        hasil += pop(st)\n",
    "        print('hasil : ',hasil)\n",
    "    return hasil\n",
    "\n",
    "a = 'A*(B+C)'\n",
    "b = infixtopostfix(a)\n",
    "print('Infix : ',a)\n",
    "print('Postfix : ',b)"
   ]
  },
  {
   "cell_type": "markdown",
   "metadata": {},
   "source": [
    "# pencarian dfs graf"
   ]
  },
  {
   "cell_type": "code",
   "execution_count": 23,
   "metadata": {},
   "outputs": [
    {
     "name": "stdout",
     "output_type": "stream",
     "text": [
      "Traversal DFS:\n",
      "A\n",
      "C\n",
      "F\n",
      "B\n",
      "E\n",
      "D\n"
     ]
    }
   ],
   "source": [
    "# latihan \n",
    "def dfs(graph, start_node):\n",
    "    visited = set()\n",
    "    st = stack()\n",
    "    push(st, start_node)\n",
    "\n",
    "    while not isEmpty(st):\n",
    "        current_node = pop(st)\n",
    "\n",
    "        if current_node not in visited:\n",
    "            print(current_node)\n",
    "            visited.add(current_node)\n",
    "\n",
    "            for neighbor in graph[current_node]:\n",
    "                if neighbor not in visited:\n",
    "                    push(st, neighbor)\n",
    "\n",
    "# Contoh penggunaan:\n",
    "graph = {\n",
    "    'A': ['B', 'C'],\n",
    "    'B': ['D', 'E'],\n",
    "    'C': ['F'],\n",
    "    'D': [],\n",
    "    'E': ['F'],\n",
    "    'F': []\n",
    "}\n",
    "start_node = 'A'\n",
    "\n",
    "print(\"Traversal DFS:\")\n",
    "dfs(graph, start_node)"
   ]
  },
  {
   "cell_type": "markdown",
   "metadata": {},
   "source": []
  },
  {
   "cell_type": "code",
   "execution_count": 26,
   "metadata": {},
   "outputs": [
    {
     "name": "stdout",
     "output_type": "stream",
     "text": [
      "Array sebelum diurutkan: [3, 6, 8, 10, 1, 2, 1]\n",
      "Array setelah diurutkan: [1, 2, 3, 6, 8, 10]\n"
     ]
    }
   ],
   "source": [
    "def quicksort(array):\n",
    "    if len(array) <= 1:\n",
    "        return array\n",
    "\n",
    "    pivot = array[len(array) // 2]\n",
    "    left = []\n",
    "    right = []\n",
    "\n",
    "    for num in array:\n",
    "        if num < pivot:\n",
    "            left.append(num)\n",
    "        elif num > pivot:\n",
    "            right.append(num)\n",
    "\n",
    "    return quicksort(left) + [pivot] + quicksort(right)\n",
    "\n",
    "# Contoh penggunaan:\n",
    "arr = [3, 6, 8, 10, 1, 2, 1]\n",
    "print(\"Array sebelum diurutkan:\", arr)\n",
    "arr = quicksort(arr)\n",
    "print(\"Array setelah diurutkan:\", arr)"
   ]
  },
  {
   "cell_type": "code",
   "execution_count": 27,
   "metadata": {},
   "outputs": [
    {
     "name": "stdout",
     "output_type": "stream",
     "text": [
      "Array sebelum diurutkan: [3, 6, 8, 10, 1, 2, 1]\n",
      "Array setelah diurutkan: [3, 1, 6, 1, 8, 2, 10]\n"
     ]
    }
   ],
   "source": [
    "def quicksort(array):\n",
    "    if len(array) <= 1:\n",
    "        return array\n",
    "\n",
    "    pivot = array[len(array) // 2]\n",
    "    left = []\n",
    "    right = []\n",
    "\n",
    "    for num in array:\n",
    "        if num < pivot:\n",
    "            left.append(num)\n",
    "        elif num > pivot:\n",
    "            right.append(num)\n",
    "\n",
    "    return quicksort(left) + [pivot] + quicksort(right)\n",
    "\n",
    "def iterative_quicksort(array):\n",
    "    if len(array) <= 1:\n",
    "        return array\n",
    "\n",
    "    stack_left = stack()\n",
    "    stack_right = stack()\n",
    "    push(stack_left, 0)\n",
    "    push(stack_right, len(array) - 1)\n",
    "\n",
    "    while not isEmpty(stack_left):\n",
    "        low = pop(stack_left)\n",
    "        high = pop(stack_right)\n",
    "\n",
    "        if low < high:\n",
    "            pivot_index = partition(array, low, high)\n",
    "\n",
    "            if pivot_index - 1 > low:\n",
    "                push(stack_left, low)\n",
    "                push(stack_right, pivot_index - 1)\n",
    "\n",
    "            if pivot_index + 1 < high:\n",
    "                push(stack_left, pivot_index + 1)\n",
    "                push(stack_right, high)\n",
    "\n",
    "def partition(array, low, high):\n",
    "    pivot = array[(low + high) // 2]\n",
    "    i = low - 1\n",
    "    j = high + 1\n",
    "\n",
    "    while True:\n",
    "        i += 1\n",
    "        while array[i] < pivot:\n",
    "            i += 1\n",
    "\n",
    "        j -= 1\n",
    "        while array[j] > pivot:\n",
    "            j -= 1\n",
    "\n",
    "        if i >= j:\n",
    "            return j\n",
    "\n",
    "        array[i], array[j] = array[j], array[i]\n",
    "\n",
    "# Contoh penggunaan:\n",
    "arr = [3, 6, 8, 10, 1, 2, 1]\n",
    "print(\"Array sebelum diurutkan:\", arr)\n",
    "iterative_quicksort(arr)\n",
    "print(\"Array setelah diurutkan:\", arr)"
   ]
  },
  {
   "cell_type": "code",
   "execution_count": 29,
   "metadata": {},
   "outputs": [
    {
     "name": "stdout",
     "output_type": "stream",
     "text": [
      "Array sebelum diurutkan: [3, 6, 8, 10, 1, 2, 1]\n",
      "Array setelah diurutkan: [3, 1, 6, 2, 8, 1, 10]\n"
     ]
    }
   ],
   "source": [
    "def quicksort(array):\n",
    "    if len(array) <= 1:\n",
    "        return array\n",
    "\n",
    "    st = stack()\n",
    "    push(st, 0)\n",
    "    push(st, len(array) - 1)\n",
    "\n",
    "    while not isEmpty(st):\n",
    "        high = pop(st)\n",
    "        low = pop(st)\n",
    "\n",
    "        pivot_index = partition(array, low, high)\n",
    "\n",
    "        if pivot_index - 1 > low:\n",
    "            push(st, low)\n",
    "            push(st, pivot_index - 1)\n",
    "\n",
    "        if pivot_index + 1 < high:\n",
    "            push(st, pivot_index + 1)\n",
    "            push(st, high)\n",
    "\n",
    "def partition(array, low, high):\n",
    "    pivot = array[(low + high) // 2]\n",
    "    i = low - 1\n",
    "\n",
    "    for j in range(low, high):\n",
    "        if array[j] < pivot:\n",
    "            i += 1\n",
    "            array[i], array[j] = array[j], array[i]\n",
    "\n",
    "    array[i + 1], array[high] = array[high], array[i + 1]\n",
    "    return i + 1\n",
    "\n",
    "# Contoh penggunaan:\n",
    "arr = [3, 6, 8, 10, 1, 2, 1]\n",
    "print(\"Array sebelum diurutkan:\", arr)\n",
    "quicksort(arr)\n",
    "print(\"Array setelah diurutkan:\", arr)"
   ]
  },
  {
   "cell_type": "markdown",
   "metadata": {},
   "source": [
    "## penjumlahan 2 buah bilangan bulat"
   ]
  },
  {
   "cell_type": "code",
   "execution_count": 50,
   "metadata": {},
   "outputs": [
    {
     "name": "stdout",
     "output_type": "stream",
     "text": [
      "stack bil1 = [7, 7, 7]\n",
      "stack bil2 = [3]\n",
      "jumlah = 10 stack hasil = [0] sisa = 1\n",
      "stack bil1 = [7, 7]\n",
      "stack bil2 = []\n",
      "jumlah = 8 stack hasil = [0, 8] sisa = 0\n",
      "stack bil1 = [7]\n",
      "stack bil2 = []\n",
      "jumlah = 7 stack hasil = [0, 8, 7] sisa = 0\n",
      "[0, 8, 7]\n",
      "[] + [] = 780\n"
     ]
    }
   ],
   "source": [
    "def addStack(bil1, bil2):\n",
    "    st = stack()\n",
    "    pembawa = 0\n",
    "    \n",
    "    while not (isEmpty(bil1) and isEmpty(bil2)):\n",
    "        print(\"stack bil1 =\", bil1)\n",
    "        print(\"stack bil2 =\", bil2)\n",
    "        digit1 = 0 if isEmpty(bil1) else pop(bil1)\n",
    "        digit2 = 0 if isEmpty(bil2) else pop(bil2)\n",
    "        total =  digit1 + digit2 + pembawa\n",
    "        pembawa = total // 10\n",
    "        push(st, total % 10)\n",
    "        print(f'jumlah = {total} stack hasil = {st} sisa = {pembawa}')\n",
    "        \n",
    "    if pembawa:\n",
    "        push(st, pembawa)\n",
    "    print(st)\n",
    "    return st\n",
    "    \n",
    "# Bilangan pertama dan kedua\n",
    "bil1 = [7,7,7]\n",
    "bil2 = [3]\n",
    "\n",
    "# Lakukan penjumlahan menggunakan stack\n",
    "st = addStack(bil1, bil2)\n",
    "\n",
    "# Tampilkan hasil penjumlahan\n",
    "result = ''\n",
    "while not isEmpty(st):\n",
    "    digit = pop(st)\n",
    "    result += str(digit)\n",
    "print(f'{bil1} + {bil2} = {result}')  "
   ]
  },
  {
   "cell_type": "code",
   "execution_count": 54,
   "metadata": {},
   "outputs": [
    {
     "name": "stdout",
     "output_type": "stream",
     "text": [
      "stack bil1 = [7, 7, 7]\n",
      "stack bil2 = [3]\n",
      "jumlah = 4 stack hasil = [] sisa = 0\n",
      "[4]\n",
      "stack bil1 = [7, 7]\n",
      "stack bil2 = []\n",
      "jumlah = 7 stack hasil = [4] sisa = 0\n",
      "[4, 7]\n",
      "stack bil1 = [7]\n",
      "stack bil2 = []\n",
      "jumlah = 7 stack hasil = [4, 7] sisa = 0\n",
      "[4, 7, 7]\n",
      "[] - [] = 774\n"
     ]
    }
   ],
   "source": [
    "def subtractStack(bil1, bil2):\n",
    "    st = stack()\n",
    "    pengurang = 0\n",
    "    \n",
    "    while not (isEmpty(bil1) and isEmpty(bil2)):\n",
    "        print(\"stack bil1 =\", bil1)\n",
    "        print(\"stack bil2 =\", bil2)\n",
    "        digit1 = 0 if isEmpty(bil1) else pop(bil1)\n",
    "        digit2 = 0 if isEmpty(bil2) else pop(bil2)\n",
    "        difference = digit1 - digit2 - pengurang\n",
    "        print(f'jumlah = {difference} stack hasil = {st} sisa = {pengurang}')\n",
    "        if difference < 0:\n",
    "            difference += 10\n",
    "            pengurang = 1\n",
    "        else:\n",
    "            pengurang = 0\n",
    "        push(st, difference)\n",
    "        print(st)\n",
    "        \n",
    "    return st\n",
    "\n",
    "# Bilangan pertama dan kedua\n",
    "bil1 = [7,7,7]\n",
    "bil2 = [3]\n",
    "\n",
    "# Lakukan pengurangan menggunakan stack\n",
    "st = subtractStack(bil1, bil2)\n",
    "\n",
    "# Tampilkan hasil pengurangan\n",
    "result = ''\n",
    "while not isEmpty(st):\n",
    "    digit = pop(st)\n",
    "    result += str(digit)\n",
    "print(f'{bil1} - {bil2} = {result}')\n"
   ]
  },
  {
   "cell_type": "code",
   "execution_count": 56,
   "metadata": {},
   "outputs": [
    {
     "name": "stdout",
     "output_type": "stream",
     "text": [
      "Hasil perkalian [7, 7, 7] dan [3] adalah: 2331\n"
     ]
    }
   ],
   "source": [
    "def multiplyStack(bil1, bil2):\n",
    "    result = []\n",
    "    \n",
    "    for i in range(len(bil1)):\n",
    "        for j in range(len(bil2)):\n",
    "            pos = i + j\n",
    "            digit = bil1[i] * bil2[j]\n",
    "            \n",
    "            if pos < len(result):\n",
    "                result[pos] += digit\n",
    "            else:\n",
    "                result.append(digit)\n",
    "    \n",
    "    # Penanganan pembawa\n",
    "    carry = 0\n",
    "    for i in range(len(result)):\n",
    "        result[i] += carry\n",
    "        carry = result[i] // 10\n",
    "        result[i] %= 10\n",
    "    \n",
    "    # Jika masih ada pembawa setelah perkalian selesai\n",
    "    while carry:\n",
    "        result.append(carry % 10)\n",
    "        carry //= 10\n",
    "        \n",
    "    return result\n",
    "\n",
    "# Bilangan pertama dan kedua\n",
    "bil1 = [7, 7, 7]\n",
    "bil2 = [3]\n",
    "\n",
    "# Lakukan perkalian menggunakan stack\n",
    "result = multiplyStack(bil1, bil2)\n",
    "\n",
    "# Tampilkan hasil perkalian\n",
    "# Inisialisasi string kosong untuk menampung hasil perkalian\n",
    "result_str = ''\n",
    "\n",
    "# Mengonversi setiap digit dalam list result menjadi string\n",
    "for digit in reversed(result):\n",
    "    result_str += str(digit)\n",
    "\n",
    "# Menampilkan hasil perkalian dengan format yang jelas\n",
    "print(f'Hasil perkalian {bil1} dan {bil2} adalah: {result_str}')\n",
    "\n"
   ]
  },
  {
   "cell_type": "code",
   "execution_count": 57,
   "metadata": {},
   "outputs": [
    {
     "name": "stdout",
     "output_type": "stream",
     "text": [
      "[7, 7, 7] ÷ [3] = 259\n"
     ]
    }
   ],
   "source": [
    "def divideStack(bil1, bil2):\n",
    "    result = []\n",
    "    remainder = 0\n",
    "    \n",
    "    for digit1 in bil1:\n",
    "        dividend = remainder * 10 + digit1\n",
    "        quotient = dividend // bil2[0]\n",
    "        remainder = dividend % bil2[0]\n",
    "        result.append(quotient)\n",
    "    \n",
    "    return result\n",
    "\n",
    "# Bilangan pertama dan kedua\n",
    "bil1 = [7, 7, 7]\n",
    "bil2 = [3]\n",
    "\n",
    "# Lakukan pembagian menggunakan stack\n",
    "result = divideStack(bil1, bil2)\n",
    "\n",
    "# Tampilkan hasil pembagian\n",
    "result_str = ''.join(map(str, result))\n",
    "print(f'{bil1} ÷ {bil2} = {result_str}')\n"
   ]
  }
 ],
 "metadata": {
  "kernelspec": {
   "display_name": "Python 3",
   "language": "python",
   "name": "python3"
  },
  "language_info": {
   "codemirror_mode": {
    "name": "ipython",
    "version": 3
   },
   "file_extension": ".py",
   "mimetype": "text/x-python",
   "name": "python",
   "nbconvert_exporter": "python",
   "pygments_lexer": "ipython3",
   "version": "3.12.2"
  }
 },
 "nbformat": 4,
 "nbformat_minor": 2
}

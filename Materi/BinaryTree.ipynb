{
 "cells": [
  {
   "cell_type": "markdown",
   "metadata": {},
   "source": [
    "# Binary Tree"
   ]
  },
  {
   "cell_type": "markdown",
   "metadata": {},
   "source": [
    "## Tree\n",
    "Pada computer science, pencarian solusi dimulai dari root, bergerak ke bawah mengikuti cabangnya atau edge, sampai dengan leaves atau daun. Informasi yang terdapat pada daun inilah yang merupakan solusi yang dicari.  \n",
    "Beberapa istilah pada Tree yang harus diketahui adalah sebagai berikut :\n",
    "* Node, merupakan bagian dari tree yang menyimpan informasi atau juga disebut sebagai key\n",
    "* Edge, yang menghubungkan antara node yang satu dengan yang lain. Hanya ada satu edge\n",
    "* yang masuk ke dalam node, dan satu atau lebih edge yang keluar dari suatu node\n",
    "* Root, node yang terletak di paling atas, tidak ada edge yang masuk ke dalam node root ini,\n",
    "* tapi root mempunyai satu atau lebih dari satu edge yang keluar.\n",
    "* path, merupakan urutan node dari root sampai tujuan, misalkan computer --> D: --> Mata\n",
    " Kuliah --> Struktur Data\n",
    "* children, merupakan node-node yang memiliki edge yang masuk dari node yang sama.\n",
    " Misalkan program files, users, dan windows merupakan children, krn memiliki edge masuk\n",
    " yang sama-sama berasal dari node C:\n",
    "* Parent, node yang memiliki edge yang keluar dari node tersebut, misalkan node C: adalah\n",
    " parent dari program files, users, dan windows\n",
    "* Siblings, adalah node-node yang berasal dari parent yang sama\n",
    "* subtree, kumpulan dari node dan edge yang terdiri dari parent dan semua node setelah\n",
    " parent\n",
    "* leaf node, node yang tidak memiliki edge yang keluar, node yang tidak memiliki children\n",
    "* level, tingkatan dari node. Root merupakan level ke-0, semakin kebawah maka level dari\n",
    " node tersebut semakin besar, misalkan struktur data berada di level ke-3\n",
    "* height, merupakan tinggi tree, nilai dari height ini adalah level maksimum dari tree"
   ]
  },
  {
   "cell_type": "markdown",
   "metadata": {},
   "source": [
    " ## Binary tree \n",
    "merupakan tree dimana setiap parent hanya memiliki dua buah atau satu node children saja. Karena didalam binary tree terdiri node dimana setiap node memiliki informasi mengenai nilai node dan edge\n",
    "(method untuk menambahkan node baru pada tree), maka tree ataupun binary tree ini akan lebih mudah diimplementasikan dengan menggunakan tipe data class. "
   ]
  },
  {
   "cell_type": "code",
   "execution_count": 8,
   "metadata": {},
   "outputs": [],
   "source": [
    "class BinaryTree:\n",
    "    def __init__(self, root):\n",
    "        self.key = root\n",
    "        self.leftChild = None\n",
    "        self.rightChild = None"
   ]
  },
  {
   "cell_type": "code",
   "execution_count": 9,
   "metadata": {},
   "outputs": [
    {
     "name": "stdout",
     "output_type": "stream",
     "text": [
      "None\n"
     ]
    }
   ],
   "source": [
    "myTree = BinaryTree(10)\n",
    "print(myTree.leftChild)"
   ]
  },
  {
   "cell_type": "code",
   "execution_count": 10,
   "metadata": {},
   "outputs": [],
   "source": [
    "class BinaryTree:\n",
    "    def __init__(self, root):\n",
    "        self.key = root\n",
    "        self.leftChild = None\n",
    "        self.rightChild = None\n",
    "\n",
    "\n",
    "def insertLeft(self, new_node):\n",
    "    if self.leftChild == None:\n",
    "        self.leftChild = BinaryTree(new_node)\n",
    "    else:\n",
    "        t = BinaryTree(new_node)\n",
    "        t.leftChild = self.leftChild\n",
    "        self.leftChild = t\n",
    "\n",
    "\n",
    "def insertRight(self, new_node):\n",
    "    if self.rightChild == None:\n",
    "        self.rightChild = BinaryTree(new_node)\n",
    "    else:\n",
    "        t = BinaryTree(new_node)\n",
    "        t.rightChild = self.rightChild\n",
    "        self.rightChild = t\n",
    "\n",
    "\n",
    "def getRightChild(self):\n",
    "    return self.rightChild\n",
    "\n",
    "\n",
    "def getLeftChild(self):\n",
    "    return self.leftChild\n",
    "\n",
    "\n",
    "def setRootVal(self, obj):\n",
    "    self.key = obj\n",
    "\n",
    "\n",
    "def getRootVal(self):\n",
    "    return self.key"
   ]
  },
  {
   "cell_type": "code",
   "execution_count": 11,
   "metadata": {},
   "outputs": [],
   "source": [
    "bt = BinaryTree('a')"
   ]
  },
  {
   "cell_type": "code",
   "execution_count": 13,
   "metadata": {},
   "outputs": [
    {
     "ename": "AttributeError",
     "evalue": "'BinaryTree' object has no attribute 'insertLeft'",
     "output_type": "error",
     "traceback": [
      "\u001b[1;31m---------------------------------------------------------------------------\u001b[0m",
      "\u001b[1;31mAttributeError\u001b[0m                            Traceback (most recent call last)",
      "Cell \u001b[1;32mIn[13], line 1\u001b[0m\n\u001b[1;32m----> 1\u001b[0m \u001b[43mbt\u001b[49m\u001b[38;5;241;43m.\u001b[39;49m\u001b[43minsertLeft\u001b[49m(\u001b[38;5;124m'\u001b[39m\u001b[38;5;124mb\u001b[39m\u001b[38;5;124m'\u001b[39m)\n\u001b[0;32m      2\u001b[0m leftTree \u001b[38;5;241m=\u001b[39m bt\u001b[38;5;241m.\u001b[39mleftChild\n\u001b[0;32m      3\u001b[0m leftTree\u001b[38;5;241m.\u001b[39mrightChild \u001b[38;5;241m=\u001b[39m \u001b[38;5;124m'\u001b[39m\u001b[38;5;124md\u001b[39m\u001b[38;5;124m'\u001b[39m\n",
      "\u001b[1;31mAttributeError\u001b[0m: 'BinaryTree' object has no attribute 'insertLeft'"
     ]
    }
   ],
   "source": [
    "bt.insertLeft('b')\n",
    "leftTree = bt.leftChild\n",
    "leftTree.rightChild = 'd'\n",
    "bt.insertRight('c')\n",
    "right.Tree = bt.rightChild\n",
    "rightTree.leftChild = 'e'\n",
    "rightTree.rightChild = 'f'"
   ]
  },
  {
   "cell_type": "code",
   "execution_count": null,
   "metadata": {},
   "outputs": [],
   "source": [
    "bTree = BinarybTree('a')\n",
    "print(f\"Akar: {bTree.getRootVal()}\")\n",
    "bTree.insertLeft('b')\n",
    "bTree.insertRight('c')\n",
    "print(f\"Anak kiri dari a: {bTree.getLeftChild()}\")\n",
    "print(f\"Anak kanan dari a: {bTree.getRightChild()}\")\n",
    "\n",
    "bTree.insertRigth('d')\n",
    "print(f\"Anak kanan dari akar b: {bTree.getRightChild()}\")"
   ]
  },
  {
   "cell_type": "code",
   "execution_count": null,
   "metadata": {},
   "outputs": [],
   "source": []
  },
  {
   "cell_type": "markdown",
   "metadata": {},
   "source": [
    "# Parsing Binary Tree"
   ]
  },
  {
   "cell_type": "code",
   "execution_count": 6,
   "metadata": {},
   "outputs": [],
   "source": [
    "def stack():\n",
    "    s=[]\n",
    "    return (s)\n",
    "def push(s,data):\n",
    "    s.append(data)\n",
    "def pop(s):\n",
    "    data=s.pop()\n",
    "    return(data)\n",
    "def peek(s):\n",
    "    return(s[len(s)-1])\n",
    "def isEmpty(s):\n",
    "    return (s==[])\n",
    "def size(s):\n",
    "    return(len(s))"
   ]
  },
  {
   "cell_type": "code",
   "execution_count": 7,
   "metadata": {},
   "outputs": [],
   "source": [
    "class BinaryTree:\n",
    "    def __init__(self, root):\n",
    "        self.key = root\n",
    "        self.leftChild = None\n",
    "        self.rightChild = None\n",
    "    def insertLeft(self, new_node):\n",
    "        if self.leftChild == None:           \n",
    "            self.leftChild = BinaryTree(new_node)         \n",
    "        else:\n",
    "            t = BinaryTree(new_node)\n",
    "            t.leftChild = self.leftChild\n",
    "            self.leftChild = t\n",
    "    def insertRight(self, new_node):\n",
    "        if self.rightChild == None:\n",
    "            self.rightChild = BinaryTree(new_node)            \n",
    "        else:\n",
    "            t = BinaryTree(new_node)\n",
    "            t.rightChild = self.rightChild\n",
    "            self.rightChild = t\n",
    "    def getRightChild(self):\n",
    "        return self.rightChild\n",
    "    def getLeftChild(self):\n",
    "        return self.leftChild\n",
    "    def setRootVal(self, obj):\n",
    "        self.key = obj\n",
    "    def getRootVal(self):\n",
    "        return self.key"
   ]
  },
  {
   "cell_type": "code",
   "execution_count": 8,
   "metadata": {},
   "outputs": [],
   "source": [
    "def buildParseTree(mathExp):\n",
    "    tokenList = mathExp.split()\n",
    "    parentStack = stack()\n",
    "    expTree = BinaryTree(' ' )\n",
    "    push(parentStack,expTree)\n",
    "    print(tokenList)\n",
    "    currentTree = expTree\n",
    "    for i in tokenList:\n",
    "        if i == '(' :\n",
    "            print('if 1', i)\n",
    "            currentTree.insertLeft(' ' )\n",
    "            push(parentStack,currentTree)\n",
    "            currentTree = currentTree.getLeftChild()\n",
    "        elif i not in [ '+' , '-' , '*' , '/' , ')' ]:\n",
    "            print('if 2', i)\n",
    "            currentTree.setRootVal(int(i))\n",
    "            parent = pop(parentStack)\n",
    "            currentTree = parent\n",
    "        elif i in [ '+' , '-' , '*' , '/' ]:\n",
    "            print('if 3', i)\n",
    "            currentTree.setRootVal(i)\n",
    "            currentTree.insertRight(' ' )\n",
    "            push(parentStack,currentTree)\n",
    "            currentTree = currentTree.getRightChild()\n",
    "        elif i == ')' :\n",
    "            currentTree = pop(parentStack)\n",
    "        else:\n",
    "            raise ValueError\n",
    "    return expTree"
   ]
  },
  {
   "cell_type": "code",
   "execution_count": 9,
   "metadata": {},
   "outputs": [
    {
     "name": "stdout",
     "output_type": "stream",
     "text": [
      "['(', '3', '+', '(', '4', '*', '5', ')', ')']\n",
      "if 1 (\n",
      "if 2 3\n",
      "if 3 +\n",
      "if 1 (\n",
      "if 2 4\n",
      "if 3 *\n",
      "if 2 5\n"
     ]
    }
   ],
   "source": [
    "pt = buildParseTree(' ( 3 + ( 4 * 5 ) ) ')"
   ]
  },
  {
   "cell_type": "code",
   "execution_count": 10,
   "metadata": {},
   "outputs": [
    {
     "name": "stdout",
     "output_type": "stream",
     "text": [
      "+\n",
      "3\n"
     ]
    }
   ],
   "source": [
    "print(pt.getRootVal())\n",
    "tmp=pt.getLeftChild()\n",
    "print(tmp.getRootVal())\n"
   ]
  },
  {
   "cell_type": "code",
   "execution_count": 11,
   "metadata": {},
   "outputs": [],
   "source": [
    "import operator\n",
    "def evaluate(parse_tree):\n",
    "    opers = { '+' :operator.add, '-' :operator.sub, '*' :operator.mul, '/' : operator.truediv }\n",
    "    left = parse_tree.getLeftChild()\n",
    "    right = parse_tree.getRightChild()\n",
    "    if left and right:\n",
    "        fn = opers[parse_tree.key]\n",
    "        return fn(evaluate(left),evaluate(right))\n",
    "    else:\n",
    "        return parse_tree.key"
   ]
  },
  {
   "cell_type": "code",
   "execution_count": 12,
   "metadata": {},
   "outputs": [
    {
     "data": {
      "text/plain": [
       "23"
      ]
     },
     "execution_count": 12,
     "metadata": {},
     "output_type": "execute_result"
    }
   ],
   "source": [
    "evaluate(pt)"
   ]
  },
  {
   "cell_type": "code",
   "execution_count": 13,
   "metadata": {},
   "outputs": [],
   "source": [
    "def buildParseTree(mathExp):\n",
    "    tokenList = mathExp.split()\n",
    "    parentStack = stack()\n",
    "    expTree = BinaryTree(' ')\n",
    "    push(parentStack, expTree)\n",
    "    currentTree = expTree\n",
    "\n",
    "    for i in tokenList:\n",
    "        if i.isdigit():  \n",
    "            currentTree.setRootVal(int(i))\n",
    "            parent = pop(parentStack)\n",
    "            currentTree = parent\n",
    "            if not parent.getLeftChild():\n",
    "                parent.insertLeft(' ')\n",
    "            currentTree = parent.getLeftChild()\n",
    "        elif i in ['+', '-', '*', '/']:  \n",
    "            currentTree.setRootVal(i)\n",
    "            currentTree.insertRight(' ')\n",
    "            push(parentStack, currentTree)\n",
    "            currentTree = currentTree.getRightChild()\n",
    "        else:\n",
    "            raise ValueError(\"Invalid token\")\n",
    "\n",
    "    return expTree\n"
   ]
  },
  {
   "cell_type": "code",
   "execution_count": 14,
   "metadata": {},
   "outputs": [],
   "source": [
    "import operator\n",
    "def evaluate(parse_tree):\n",
    "    opers = { '+' :operator.add, '-' :operator.sub, '*' :operator.mul, '/' : operator.truediv }\n",
    "    left = parse_tree.getLeftChild()\n",
    "    right = parse_tree.getRightChild()\n",
    "    if left and right:\n",
    "        fn = opers[parse_tree.key]\n",
    "        return fn(evaluate(left),evaluate(right))\n",
    "    else:\n",
    "        return parse_tree.key"
   ]
  },
  {
   "cell_type": "code",
   "execution_count": 15,
   "metadata": {},
   "outputs": [
    {
     "data": {
      "text/plain": [
       "23"
      ]
     },
     "execution_count": 15,
     "metadata": {},
     "output_type": "execute_result"
    }
   ],
   "source": [
    "evaluate(pt)\n"
   ]
  },
  {
   "cell_type": "code",
   "execution_count": 1,
   "metadata": {},
   "outputs": [
    {
     "name": "stdout",
     "output_type": "stream",
     "text": [
      "Root : a\n",
      "Left child dari root: b\n",
      "Right child dari root: c\n",
      "Left child dari left child yg dari root: f\n",
      "Right child dari left child yg root: e\n",
      "Right child dari right child yg dari root: d\n"
     ]
    }
   ],
   "source": [
    "class BinaryTree:\n",
    "    def __init__(self, root):\n",
    "        self.key = root\n",
    "        self.leftChild = None\n",
    "        self.rightChild = None\n",
    "\n",
    "    def insertLeft(self, new_node):\n",
    "        if self.leftChild is None:\n",
    "            self.leftChild = BinaryTree(new_node)\n",
    "        else:\n",
    "            t = BinaryTree(new_node)\n",
    "            t.leftChild = self.leftChild\n",
    "            self.leftChild = t\n",
    "\n",
    "    def insertRight(self, new_node):\n",
    "        if self.rightChild is None:\n",
    "            self.rightChild = BinaryTree(new_node)\n",
    "        else:\n",
    "            t = BinaryTree(new_node)\n",
    "            t.rightChild = self.rightChild\n",
    "            self.rightChild = t\n",
    "\n",
    "    def getRightChild(self):\n",
    "        return self.rightChild\n",
    "\n",
    "    def getLeftChild(self):\n",
    "        return self.leftChild\n",
    "\n",
    "    def setRootVal(self, obj):\n",
    "        self.key = obj\n",
    "\n",
    "    def getRootVal(self):\n",
    "        return self.key\n",
    "\n",
    "tree = BinaryTree('a')\n",
    "print(f\"Root : {tree.getRootVal()}\")\n",
    "\n",
    "tree.insertLeft('b')\n",
    "tree.insertRight('c')\n",
    "\n",
    "print(f\"Left child dari root: {tree.getLeftChild().getRootVal()}\")\n",
    "print(f\"Right child dari root: {tree.getRightChild().getRootVal()}\")\n",
    "\n",
    "tree.getLeftChild().insertLeft('f')\n",
    "tree.getLeftChild().insertRight('e')\n",
    "tree.getRightChild().insertRight('d')\n",
    "\n",
    "print(f\"Left child dari left child yg dari root: {tree.getLeftChild().getLeftChild().getRootVal()}\")\n",
    "print(f\"Right child dari left child yg root: {tree.getLeftChild().getRightChild().getRootVal()}\")\n",
    "print(f\"Right child dari right child yg dari root: {tree.getRightChild().getRightChild().getRootVal()}\")"
   ]
  },
  {
   "cell_type": "code",
   "execution_count": null,
   "metadata": {},
   "outputs": [],
   "source": []
  },
  {
   "cell_type": "code",
   "execution_count": null,
   "metadata": {},
   "outputs": [],
   "source": []
  },
  {
   "cell_type": "code",
   "execution_count": null,
   "metadata": {},
   "outputs": [],
   "source": []
  },
  {
   "cell_type": "code",
   "execution_count": null,
   "metadata": {},
   "outputs": [],
   "source": []
  },
  {
   "cell_type": "code",
   "execution_count": null,
   "metadata": {},
   "outputs": [],
   "source": []
  },
  {
   "cell_type": "code",
   "execution_count": null,
   "metadata": {},
   "outputs": [],
   "source": []
  },
  {
   "cell_type": "code",
   "execution_count": null,
   "metadata": {},
   "outputs": [],
   "source": []
  },
  {
   "cell_type": "code",
   "execution_count": null,
   "metadata": {},
   "outputs": [],
   "source": []
  },
  {
   "cell_type": "code",
   "execution_count": null,
   "metadata": {},
   "outputs": [],
   "source": []
  },
  {
   "cell_type": "code",
   "execution_count": null,
   "metadata": {},
   "outputs": [],
   "source": []
  },
  {
   "cell_type": "code",
   "execution_count": null,
   "metadata": {},
   "outputs": [],
   "source": [
    "class BinaryTree:\n",
    "    def __init__(self, root):\n",
    "        self.key = root  # Menyimpan nilai kunci (atau nilai) dari simpul\n",
    "        # Menyimpan referensi ke anak kiri dari simpul saat ini (pada awalnya None)\n",
    "        self.leftChild = None\n",
    "        # Menyimpan referensi ke anak kanan dari simpul saat ini (pada awalnya None)\n",
    "        self.rightChild = None\n",
    "\n",
    "    # Metode untuk menyisipkan simpul baru sebagai anak kiri dari simpul saat ini\n",
    "    def insertLeft(self, new_node):\n",
    "        if self.leftChild == None:  # Jika tidak ada anak kiri pada simpul saat ini\n",
    "            # Buat simpul baru dan atur sebagai anak kiri\n",
    "            self.leftChild = BinaryTree(new_node)\n",
    "        else:  # Jika sudah ada anak kiri pada simpul saat ini\n",
    "            t = BinaryTree(new_node)  # Buat simpul baru\n",
    "            # Atur anak kiri yang sudah ada sebagai anak kiri dari simpul baru\n",
    "            t.leftChild = self.leftChild\n",
    "            self.leftChild = t  # Atur simpul baru sebagai anak kiri dari simpul saat ini\n",
    "\n",
    "    # Metode untuk menyisipkan simpul baru sebagai anak kanan dari simpul saat ini\n",
    "    def insertRight(self, new_node):\n",
    "        if self.rightChild == None:  # Jika tidak ada anak kanan pada simpul saat ini\n",
    "            # Buat simpul baru dan atur sebagai anak kanan\n",
    "            self.rightChild = BinaryTree(new_node)\n",
    "        else:  # Jika sudah ada anak kanan pada simpul saat ini\n",
    "            t = BinaryTree(new_node)  # Buat simpul baru\n",
    "            # Atur anak kanan yang sudah ada sebagai anak kanan dari simpul baru\n",
    "            t.rightChild = self.rightChild\n",
    "            self.rightChild = t  # Atur simpul baru sebagai anak kanan dari simpul saat ini\n",
    "\n",
    "    # Metode untuk mendapatkan referensi ke anak kanan dari simpul saat ini\n",
    "    def getRightChild(self):\n",
    "        return self.rightChild\n",
    "\n",
    "    # Metode untuk mendapatkan referensi ke anak kiri dari simpul saat ini\n",
    "    def getLeftChild(self):\n",
    "        return self.leftChild\n",
    "\n",
    "    # Metode untuk mengatur nilai kunci dari simpul saat ini\n",
    "    def setRootVal(self, obj):\n",
    "        self.key = obj\n",
    "\n",
    "    # Metode untuk mendapatkan nilai kunci dari simpul saat ini\n",
    "    def getRootVal(self):\n",
    "        return self.key"
   ]
  },
  {
   "cell_type": "code",
   "execution_count": null,
   "metadata": {},
   "outputs": [],
   "source": [
    "class BinaryTree:\n",
    "    def __init__(self, root):\n",
    "        self.key = root  # Menyimpan nilai kunci (atau nilai) dari simpul root\n",
    "        # Menyimpan referensi ke anak kiri dari simpul saat ini (pada awalnya None)\n",
    "        self.leftChild = None\n",
    "        # Menyimpan referensi ke anak kanan dari simpul saat ini (pada awalnya None)\n",
    "        self.rightChild = None\n",
    "\n",
    "    # Metode untuk menyisipkan simpul baru sebagai anak kiri dari simpul saat ini\n",
    "    def insertLeft(self, new_node):\n",
    "        if self.leftChild == None:  # Jika tidak ada anak kiri pada simpul saat ini\n",
    "            # Buat simpul baru dan atur sebagai anak kiri\n",
    "            self.leftChild = BinaryTree(new_node)\n",
    "        else:  # Jika sudah ada anak kiri pada simpul saat ini\n",
    "            t = BinaryTree(new_node)  # Buat simpul baru\n",
    "            # Atur anak kiri yang sudah ada sebagai anak kiri dari simpul baru\n",
    "            t.leftChild = self.leftChild\n",
    "            self.leftChild = t  # Atur simpul baru sebagai anak kiri dari simpul saat ini\n",
    "\n",
    "    # Metode untuk menyisipkan simpul baru sebagai anak kanan dari simpul saat ini\n",
    "    def insertRight(self, new_node):\n",
    "        if self.rightChild == None:  # Jika tidak ada anak kanan pada simpul saat ini\n",
    "            # Buat simpul baru dan atur sebagai anak kanan\n",
    "            self.rightChild = BinaryTree(new_node)\n",
    "        else:  # Jika sudah ada anak kanan pada simpul saat ini\n",
    "            t = BinaryTree(new_node)  # Buat simpul baru\n",
    "            # Atur anak kanan yang sudah ada sebagai anak kanan dari simpul baru\n",
    "            t.rightChild = self.rightChild\n",
    "            self.rightChild = t  # Atur simpul baru sebagai anak kanan dari simpul saat ini\n",
    "\n",
    "    # Metode untuk melakukan traversal inorder pada binary tree\n",
    "    def inorder_traversal(self, node):\n",
    "        if node is not None:  # Jika simpul tidak kosong\n",
    "            # Lakukan traversal inorder pada anak kiri\n",
    "            self.inorder_traversal(node.leftChild)\n",
    "            print(node.key, end=\" \")  # Cetak nilai kunci dari simpul saat ini\n",
    "            # Lakukan traversal inorder pada anak kanan\n",
    "            self.inorder_traversal(node.rightChild)\n",
    "\n",
    "    # Metode untuk menampilkan hasil traversal inorder\n",
    "    def display_inorder(self):\n",
    "        print(\"Inorder Traversal:\")\n",
    "        # Memulai traversal inorder dari simpul root\n",
    "        self.inorder_traversal(self)\n",
    "        print()  # Cetak baris baru setelah traversal selesai"
   ]
  },
  {
   "cell_type": "code",
   "execution_count": null,
   "metadata": {},
   "outputs": [],
   "source": [
    "# Membuat binary tree\n",
    "tree = BinaryTree(1)\n",
    "tree.insertLeft(2)\n",
    "tree.insertRight(3)\n",
    "tree.insertLeft(4)\n",
    "tree.insertRight(5)\n",
    "\n",
    "# Menampilkan hasil traversal inorder\n",
    "tree.display_inorder()"
   ]
  }
 ],
 "metadata": {
  "kernelspec": {
   "display_name": "Python 3",
   "language": "python",
   "name": "python3"
  },
  "language_info": {
   "codemirror_mode": {
    "name": "ipython",
    "version": 3
   },
   "file_extension": ".py",
   "mimetype": "text/x-python",
   "name": "python",
   "nbconvert_exporter": "python",
   "pygments_lexer": "ipython3",
   "version": "3.12.2"
  }
 },
 "nbformat": 4,
 "nbformat_minor": 2
}

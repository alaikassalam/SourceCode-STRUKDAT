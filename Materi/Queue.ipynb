{
 "cells": [
  {
   "cell_type": "markdown",
   "metadata": {},
   "source": [
    "Queue adalah antrian\n",
    "- front(depan) -->remove data\n",
    "- rear(belakang) -->insert data "
   ]
  },
  {
   "cell_type": "markdown",
   "metadata": {},
   "source": [
    "Operasi Pada Queue\n",
    "- queue (), inisialisasi struktur data queue kosong \n",
    "- enqueue (data), penambahan *data* baru pada queue (rear)\n",
    "- dequeue (), penghapusan data (front) \n",
    "- isEmpty(), pengecekan apakah queue dalam keadaan kosong \n",
    "- size (), informasi jumlah data yang terdapat pada queue"
   ]
  },
  {
   "cell_type": "markdown",
   "metadata": {},
   "source": [
    "List = [0,1,2,3,...n]\n",
    "- index[0] --> rear  > nambah data\n",
    "- index[n] --> front  > remove data"
   ]
  },
  {
   "cell_type": "code",
   "execution_count": 1,
   "metadata": {},
   "outputs": [],
   "source": [
    "def queue():\n",
    "    q=[]\n",
    "    return (q)\n",
    "def enqueue(q,data):\n",
    "    q.insert(0,data)\n",
    "    return(q)\n",
    "def dequeue(q):\n",
    "    data=q.pop()\n",
    "    return(data)\n",
    "def isEmpty(q):\n",
    "    return (q==[])\n",
    "def size(q):\n",
    "    return (len(q))\n"
   ]
  },
  {
   "cell_type": "markdown",
   "metadata": {},
   "source": [
    "## ular naga"
   ]
  },
  {
   "cell_type": "code",
   "execution_count": 6,
   "metadata": {},
   "outputs": [
    {
     "name": "stdout",
     "output_type": "stream",
     "text": [
      "antrian awal  ['G', 'F', 'E', 'D', 'C', 'B', 'A']\n",
      "proses antrian ['A', 'G', 'F', 'E', 'D', 'C', 'B']\n",
      "proses antrian ['B', 'A', 'G', 'F', 'E', 'D', 'C']\n",
      "proses antrian ['C', 'B', 'A', 'G', 'F', 'E', 'D']\n",
      "proses antrian ['D', 'C', 'B', 'A', 'G', 'F', 'E']\n",
      "proses antrian ['E', 'D', 'C', 'B', 'A', 'G', 'F']\n",
      "antrian  ['E', 'D', 'C', 'B', 'A', 'G']\n",
      "proses antrian ['G', 'E', 'D', 'C', 'B', 'A']\n",
      "proses antrian ['A', 'G', 'E', 'D', 'C', 'B']\n",
      "proses antrian ['B', 'A', 'G', 'E', 'D', 'C']\n",
      "proses antrian ['C', 'B', 'A', 'G', 'E', 'D']\n",
      "proses antrian ['D', 'C', 'B', 'A', 'G', 'E']\n",
      "antrian  ['D', 'C', 'B', 'A', 'G']\n",
      "proses antrian ['G', 'D', 'C', 'B', 'A']\n",
      "proses antrian ['A', 'G', 'D', 'C', 'B']\n",
      "proses antrian ['B', 'A', 'G', 'D', 'C']\n",
      "proses antrian ['C', 'B', 'A', 'G', 'D']\n",
      "proses antrian ['D', 'C', 'B', 'A', 'G']\n",
      "antrian  ['D', 'C', 'B', 'A']\n",
      "proses antrian ['A', 'D', 'C', 'B']\n",
      "proses antrian ['B', 'A', 'D', 'C']\n",
      "proses antrian ['C', 'B', 'A', 'D']\n",
      "proses antrian ['D', 'C', 'B', 'A']\n",
      "proses antrian ['A', 'D', 'C', 'B']\n",
      "antrian  ['A', 'D', 'C']\n",
      "proses antrian ['C', 'A', 'D']\n",
      "proses antrian ['D', 'C', 'A']\n",
      "proses antrian ['A', 'D', 'C']\n",
      "proses antrian ['C', 'A', 'D']\n",
      "proses antrian ['D', 'C', 'A']\n",
      "antrian  ['D', 'C']\n",
      "proses antrian ['C', 'D']\n",
      "proses antrian ['D', 'C']\n",
      "proses antrian ['C', 'D']\n",
      "proses antrian ['D', 'C']\n",
      "proses antrian ['C', 'D']\n",
      "antrian  ['C']\n",
      "proses antrian ['C']\n",
      "proses antrian ['C']\n",
      "proses antrian ['C']\n",
      "proses antrian ['C']\n",
      "proses antrian ['C']\n",
      "antrian  []\n",
      "None\n"
     ]
    }
   ],
   "source": [
    "\n",
    "def ularNaga(nama,hitungan):\n",
    "    game = queue()\n",
    "    for data in nama:\n",
    "        enqueue(game,data)\n",
    "    print('antrian awal ',game)\n",
    "    while not(isEmpty(game)):\n",
    "        for i in range(hitungan):\n",
    "            # temp = dequeue(game)\n",
    "            # enqueue(game,temp)\n",
    "            enqueue(game, dequeue(game))\n",
    "            print('proses antrian',game)\n",
    "        dequeue(game)\n",
    "        print('antrian ',game)\n",
    "\n",
    "nama = ['A','B','C','D','E','F','G'] \n",
    "hitungan = 5\n",
    "Result = ularNaga(anak,hitung)\n",
    "print(Result)"
   ]
  },
  {
   "cell_type": "code",
   "execution_count": 9,
   "metadata": {},
   "outputs": [
    {
     "name": "stdout",
     "output_type": "stream",
     "text": [
      "Antrian awal: ['Fandi', 'Eka', 'Dini', 'Cici', 'Budi', 'Andi']\n",
      "Sisa antrian ['Budi', 'Andi', 'Fandi', 'Eka', 'Dini']\n",
      "Pemain yang dieliminasi: Cici\n",
      "Sisa antrian ['Eka', 'Dini', 'Budi', 'Andi']\n",
      "Pemain yang dieliminasi: Fandi\n",
      "Sisa antrian ['Budi', 'Andi', 'Eka']\n",
      "Pemain yang dieliminasi: Dini\n",
      "Sisa antrian ['Andi', 'Eka']\n",
      "Pemain yang dieliminasi: Budi\n",
      "Sisa antrian ['Andi']\n",
      "Pemain yang dieliminasi: Eka\n",
      "Pemenang permainan ular naga: Andi\n"
     ]
    }
   ],
   "source": [
    "def ularNaga(players, count):\n",
    "    game = queue()\n",
    "    for player in players:\n",
    "        enqueue(game, player)\n",
    "\n",
    "    print('Antrian awal:', game)\n",
    "\n",
    "    while size(game) > 1:\n",
    "        for i in range(count - 1):\n",
    "            enqueue(game, dequeue(game))\n",
    "    \n",
    "        eliminated = dequeue(game)\n",
    "        print('Sisa antrian',game)\n",
    "        print('Pemain yang dieliminasi:', eliminated)\n",
    "\n",
    "    winner = dequeue(game)\n",
    "    print('Pemenang permainan ular naga:', winner)\n",
    "    return winner\n",
    "\n",
    "# Main program\n",
    "players = ['Andi', 'Budi', 'Cici', 'Dini', 'Eka', 'Fandi']\n",
    "count = 3\n",
    "pemenang = ularNaga(players, count)\n"
   ]
  },
  {
   "cell_type": "markdown",
   "metadata": {},
   "source": [
    "## Antrian buku "
   ]
  },
  {
   "cell_type": "code",
   "execution_count": 10,
   "metadata": {},
   "outputs": [
    {
     "name": "stdout",
     "output_type": "stream",
     "text": [
      "Urutan optimal dalam membaca buku-buku: [4, 2, 5, 1, 3]\n"
     ]
    }
   ],
   "source": [
    "def queue():\n",
    "    q = []\n",
    "    return q\n",
    "\n",
    "def enqueue(q, data):\n",
    "    q.insert(0, data)\n",
    "    return q\n",
    "\n",
    "def dequeue(q):\n",
    "    if not isEmpty(q):\n",
    "        data = q.pop()\n",
    "        return data\n",
    "    else:\n",
    "        return None\n",
    "\n",
    "def isEmpty(q):\n",
    "    return q == []\n",
    "\n",
    "def size(q):\n",
    "    return len(q)\n",
    "\n",
    "def optimalReadingOrder(books, K):\n",
    "    book_order = []  # Urutan optimal buku-buku yang akan dibaca\n",
    "    current_books = queue()  # Antrian buku-buku yang sedang dipertimbangkan\n",
    "    current_max_difficulty = 0  # Tingkat kesulitan maksimum buku-buku yang sedang dipertimbangkan\n",
    "\n",
    "    for book in books:\n",
    "        enqueue(current_books, book)  # Masukkan buku ke dalam antrian\n",
    "\n",
    "        # Jika jumlah buku yang sedang dipertimbangkan telah mencapai K atau\n",
    "        # tingkat kesulitan buku terbaru lebih rendah dari buku-buku sebelumnya,\n",
    "        # masukkan buku-buku ini ke dalam urutan optimal dan perbarui antrian\n",
    "        if size(current_books) == K or (size(current_books) > K and book <= current_max_difficulty):\n",
    "            while not isEmpty(current_books):\n",
    "                book_order.append(dequeue(current_books))\n",
    "            current_max_difficulty = 0\n",
    "\n",
    "        # Jika jumlah buku yang sedang dipertimbangkan belum mencapai K,\n",
    "        # perbarui nilai tingkat kesulitan maksimum\n",
    "        if size(current_books) <= K:\n",
    "            current_max_difficulty = max(current_max_difficulty, book)\n",
    "\n",
    "    # Masukkan sisa buku-buku yang belum dimasukkan ke dalam urutan optimal\n",
    "    while not isEmpty(current_books):\n",
    "        book_order.append(dequeue(current_books))\n",
    "\n",
    "    return book_order\n",
    "\n",
    "# Contoh penggunaan:\n",
    "books = [4, 2, 5, 1, 3]\n",
    "K = 2\n",
    "optimal_order = optimalReadingOrder(books, K)\n",
    "print(\"Urutan optimal dalam membaca buku-buku:\", optimal_order)\n"
   ]
  },
  {
   "cell_type": "markdown",
   "metadata": {},
   "source": [
    "# Scheduling dengan Queue  \n",
    "- 1 resourse sharing, beberapa task\n",
    "- resource sharing--> proses time \n",
    "- task juga punya proses time  \n",
    "contoh:  \n",
    "A = 5  \n",
    "B = 4  \n",
    "C = 2 , ini contoh dari task dengan Processor  3 detik  "
   ]
  },
  {
   "cell_type": "code",
   "execution_count": 18,
   "metadata": {},
   "outputs": [
    {
     "name": "stdout",
     "output_type": "stream",
     "text": [
      "{'A': [5, 0], 'B': [4, 0], 'C': [2, 0]}\n"
     ]
    }
   ],
   "source": [
    "def inputTask(numTask):\n",
    "    task = {}\n",
    "    for i in range(numTask):\n",
    "        nama = input('Nama Task : ')\n",
    "        waktu = int(input('waktu Task : '))\n",
    "        task[nama] = [waktu,0]       \n",
    "    return task\n",
    "task = inputTask(3)\n",
    "print(task)"
   ]
  },
  {
   "cell_type": "code",
   "execution_count": 19,
   "metadata": {},
   "outputs": [
    {
     "name": "stdout",
     "output_type": "stream",
     "text": [
      "['A', 'C', 'B'] 3\n",
      "['B', 'A', 'C'] 6\n",
      "['B', 'A'] 8\n",
      "['B'] 10\n",
      "[] 11\n",
      "{'A': [0, 10], 'B': [0, 11], 'C': [0, 8]}\n"
     ]
    }
   ],
   "source": [
    "def inputTask(numTask):\n",
    "    task = {}\n",
    "    for i in range(numTask):\n",
    "        nama = input('Nama Task : ')\n",
    "        waktu = int(input('waktu Task : '))\n",
    "        task[nama] = [waktu,0]       \n",
    "    return task\n",
    "\n",
    "\n",
    "def scheduling(limitTime,task):\n",
    "    taskQueue = queue()\n",
    "    for nama in task.keys():\n",
    "        enqueue(taskQueue,nama)\n",
    "    total = 0\n",
    "    while not(isEmpty(taskQueue)):\n",
    "        temp = dequeue(taskQueue)\n",
    "        remainTime = task[temp][0] - limitTime\n",
    "        if remainTime > 0:\n",
    "            enqueue(taskQueue, temp)\n",
    "            procTime = limitTime\n",
    "        else:\n",
    "            procTime = task[temp][0]\n",
    "            remainTime = 0\n",
    "        total = total + procTime\n",
    "        task[temp][0] = remainTime\n",
    "        task[temp][1] = total\n",
    "\n",
    "        print(taskQueue, total)\n",
    "    return task\n",
    "\n",
    "task = inputTask(3)\n",
    "newTask = scheduling(3,task)\n",
    "print(newTask)\n"
   ]
  }
 ],
 "metadata": {
  "kernelspec": {
   "display_name": "Python 3",
   "language": "python",
   "name": "python3"
  },
  "language_info": {
   "codemirror_mode": {
    "name": "ipython",
    "version": 3
   },
   "file_extension": ".py",
   "mimetype": "text/x-python",
   "name": "python",
   "nbconvert_exporter": "python",
   "pygments_lexer": "ipython3",
   "version": "3.12.2"
  }
 },
 "nbformat": 4,
 "nbformat_minor": 2
}

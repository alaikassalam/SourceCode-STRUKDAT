{
 "cells": [
  {
   "cell_type": "code",
   "execution_count": 4,
   "metadata": {},
   "outputs": [
    {
     "name": "stdout",
     "output_type": "stream",
     "text": [
      "Array yang terurut adalah: [1, 5, 7, 8, 9, 10]\n"
     ]
    }
   ],
   "source": [
    "# . Quick Sort\n",
    "def partisi(arr, rendah, tinggi):\n",
    "    pivot = arr[tinggi]\n",
    "    i = rendah - 1\n",
    "    for j in range(rendah, tinggi):\n",
    "        if arr[j] < pivot:\n",
    "            i += 1\n",
    "            arr[i], arr[j] = arr[j], arr[i]\n",
    "    arr[i+1], arr[tinggi] = arr[tinggi], arr[i+1]\n",
    "    return i+1\n",
    "\n",
    "def pengurutan_cepat(arr, rendah, tinggi):\n",
    "    if rendah < tinggi:\n",
    "        pi = partisi(arr, rendah, tinggi)\n",
    "        pengurutan_cepat(arr, rendah, pi-1)\n",
    "        pengurutan_cepat(arr, pi+1, tinggi)\n",
    "\n",
    "# Contoh penggunaan\n",
    "arr = [10, 7, 8, 9, 1, 5]\n",
    "n = len(arr)\n",
    "pengurutan_cepat(arr, 0, n-1)\n",
    "print(\"Array yang terurut adalah:\", arr)\n"
   ]
  },
  {
   "cell_type": "code",
   "execution_count": 3,
   "metadata": {},
   "outputs": [
    {
     "ename": "SyntaxError",
     "evalue": "invalid syntax (3540550540.py, line 10)",
     "output_type": "error",
     "traceback": [
      "\u001b[1;36m  Cell \u001b[1;32mIn[3], line 10\u001b[1;36m\u001b[0m\n\u001b[1;33m    while i < len(kiri) dan j < len(kanan):\u001b[0m\n\u001b[1;37m                        ^\u001b[0m\n\u001b[1;31mSyntaxError\u001b[0m\u001b[1;31m:\u001b[0m invalid syntax\n"
     ]
    }
   ],
   "source": [
    "# Merge Sort\n",
    "def pengurutan_merge(arr):\n",
    "    if len(arr) > 1:\n",
    "        tengah = len(arr) // 2\n",
    "        kiri = arr[:tengah]\n",
    "        kanan = arr[tengah:]\n",
    "        pengurutan_merge(kiri)\n",
    "        pengurutan_merge(kanan)\n",
    "        i = j = k = 0\n",
    "        while i < len(kiri) dan j < len(kanan):\n",
    "            if kiri[i] < kanan[j]:\n",
    "                arr[k] = kiri[i]\n",
    "                i += 1\n",
    "            else:\n",
    "                arr[k] = kanan[j]\n",
    "                j += 1\n",
    "            k += 1\n",
    "        while i < len(kiri):\n",
    "            arr[k] = kiri[i]\n",
    "            i += 1\n",
    "            k += 1\n",
    "        while j < len(kanan):\n",
    "            arr[k] = kanan[j]\n",
    "            j += 1\n",
    "            k += 1\n",
    "\n",
    "# Contoh penggunaan\n",
    "arr = [12, 11, 13, 5, 6, 7]\n",
    "pengurutan_merge(arr)\n",
    "print(\"Array yang terurut adalah:\", arr)\n"
   ]
  },
  {
   "cell_type": "code",
   "execution_count": 1,
   "metadata": {},
   "outputs": [
    {
     "name": "stdout",
     "output_type": "stream",
     "text": [
      "Elemen ditemukan di indeks 3\n"
     ]
    }
   ],
   "source": [
    "# Linear Search\n",
    "def pencarian_linear(arr, x):\n",
    "    for i in range(len(arr)):\n",
    "        if arr[i] == x:\n",
    "            return i\n",
    "    return -1\n",
    "\n",
    "# Contoh penggunaan\n",
    "arr = [2, 3, 4, 10, 40]\n",
    "x = 10\n",
    "hasil = pencarian_linear(arr, x)\n",
    "print(\"Elemen ditemukan di indeks\" if hasil != -1 else \"Elemen tidak ditemukan dalam array\", hasil)\n"
   ]
  }
 ],
 "metadata": {
  "kernelspec": {
   "display_name": "Python 3",
   "language": "python",
   "name": "python3"
  },
  "language_info": {
   "codemirror_mode": {
    "name": "ipython",
    "version": 3
   },
   "file_extension": ".py",
   "mimetype": "text/x-python",
   "name": "python",
   "nbconvert_exporter": "python",
   "pygments_lexer": "ipython3",
   "version": "3.12.2"
  }
 },
 "nbformat": 4,
 "nbformat_minor": 2
}

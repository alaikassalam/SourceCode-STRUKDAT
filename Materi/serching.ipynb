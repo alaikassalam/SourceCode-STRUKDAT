{
 "cells": [
  {
   "cell_type": "markdown",
   "metadata": {},
   "source": [
    "#  Sequential search"
   ]
  },
  {
   "cell_type": "code",
   "execution_count": 9,
   "metadata": {},
   "outputs": [
    {
     "data": {
      "text/plain": [
       "False"
      ]
     },
     "execution_count": 9,
     "metadata": {},
     "output_type": "execute_result"
    }
   ],
   "source": [
    "def seqSearch(listData, data):\n",
    "    ind = 0\n",
    "    found = False\n",
    "    while ind < len(listData) and not found:\n",
    "        if listData[ind] == data:\n",
    "            found = True\n",
    "        else:\n",
    "            ind = ind+1\n",
    "    return found\n",
    "a=[12,5,9,8,10,26]\n",
    "seqSearch(a,1)"
   ]
  },
  {
   "cell_type": "code",
   "execution_count": 8,
   "metadata": {},
   "outputs": [
    {
     "data": {
      "text/plain": [
       "False"
      ]
     },
     "execution_count": 8,
     "metadata": {},
     "output_type": "execute_result"
    }
   ],
   "source": [
    "def seqSearch(data, target):\n",
    "    ind = 0 \n",
    "    found = False\n",
    "    while ind < len(data) and not found:\n",
    "        if data[ind] == data:\n",
    "            found = True\n",
    "        else:\n",
    "            ind += 1 \n",
    "        \n",
    "    return found\n",
    "a = [12,5,9,8,10,26]\n",
    "seqSearch(a,1)"
   ]
  },
  {
   "cell_type": "code",
   "execution_count": 12,
   "metadata": {},
   "outputs": [
    {
     "data": {
      "text/plain": [
       "True"
      ]
     },
     "execution_count": 12,
     "metadata": {},
     "output_type": "execute_result"
    }
   ],
   "source": [
    "def seqSearch(data, target):\n",
    "    ind = 0 \n",
    "    found = False\n",
    "    while ind < len(data) and not found:\n",
    "        if data[ind] == target:\n",
    "            found = True\n",
    "        else:\n",
    "            ind+=1\n",
    "    return found\n",
    "a = [12,5,9,8,10,26]\n",
    "seqSearch(a,8)"
   ]
  },
  {
   "cell_type": "markdown",
   "metadata": {},
   "source": [
    "# Binary Searching"
   ]
  },
  {
   "cell_type": "code",
   "execution_count": null,
   "metadata": {},
   "outputs": [],
   "source": []
  },
  {
   "cell_type": "code",
   "execution_count": null,
   "metadata": {},
   "outputs": [],
   "source": []
  },
  {
   "cell_type": "code",
   "execution_count": null,
   "metadata": {},
   "outputs": [],
   "source": []
  },
  {
   "cell_type": "code",
   "execution_count": null,
   "metadata": {},
   "outputs": [],
   "source": []
  },
  {
   "cell_type": "code",
   "execution_count": null,
   "metadata": {},
   "outputs": [],
   "source": []
  },
  {
   "cell_type": "markdown",
   "metadata": {},
   "source": [
    "#  Hashing"
   ]
  },
  {
   "cell_type": "markdown",
   "metadata": {},
   "source": [
    "Code\n",
    "Berikut adalah fungsi-fungsi yang diperlukan untuk algoritma hashing ini, antara lain :  \n",
    "* hash function (gunakan remainder function, yaitu data dimodulus dengan 11), nilai balik\n",
    " merupakan nilai hash  \n",
    "* createHashTable, untuk membuat hash table, dengan inisialisasi semua slot berisi 'none'  \n",
    "* putData, yaitu menyusun data ke dalam hash table, berdasarkan nilai hash yang dihasilkan  \n",
    "* searchHash, argumen merupakan data yang dicari, dan nilai balik berupa True or False, yaitu\n",
    " apakah data ditemukan di dalam hash table"
   ]
  },
  {
   "cell_type": "code",
   "execution_count": 4,
   "metadata": {},
   "outputs": [],
   "source": [
    "def remainderFunction (data,num):\n",
    "    return (data%num)\n",
    "\n",
    "def createHashTable(num):\n",
    "    temp=[]\n",
    "    for i in range(num):\n",
    "        temp.append('none')\n",
    "    return(temp)\n",
    "\n",
    "def putData(data,table):\n",
    "    for i in range(len(data)):\n",
    "        ind=remainderFunction(data[i],len(table))\n",
    "        table[ind]=data[i]\n",
    "    return(table)\n",
    "\n",
    "def searchHash(data,table):\n",
    "    hashVal=remainderFunction(data,len(table))\n",
    "    if data==table[hashVal]:\n",
    "        return True\n",
    "    else:\n",
    "        return False"
   ]
  },
  {
   "cell_type": "code",
   "execution_count": 2,
   "metadata": {},
   "outputs": [
    {
     "name": "stdout",
     "output_type": "stream",
     "text": [
      "['none', 'none', 'none', 'none', 'none', 'none', 'none', 'none', 'none', 'none', 'none']\n"
     ]
    }
   ],
   "source": [
    "a=[54, 26, 93, 17, 77, 31]\n",
    "hashTable=createHashTable(11)\n",
    "print(hashTable)"
   ]
  },
  {
   "cell_type": "code",
   "execution_count": 5,
   "metadata": {},
   "outputs": [
    {
     "name": "stdout",
     "output_type": "stream",
     "text": [
      "[77, 'none', 'none', 'none', 26, 93, 17, 'none', 'none', 31, 54]\n"
     ]
    }
   ],
   "source": [
    "hashTable=putData(a,hashTable)\n",
    "print(hashTable)"
   ]
  },
  {
   "cell_type": "code",
   "execution_count": 6,
   "metadata": {},
   "outputs": [
    {
     "data": {
      "text/plain": [
       "True"
      ]
     },
     "execution_count": 6,
     "metadata": {},
     "output_type": "execute_result"
    }
   ],
   "source": [
    "searchHash(93,hashTable)"
   ]
  },
  {
   "cell_type": "markdown",
   "metadata": {},
   "source": [
    "##  hash midsquare"
   ]
  },
  {
   "cell_type": "code",
   "execution_count": 5,
   "metadata": {},
   "outputs": [],
   "source": [
    "def midSquare (data,num):\n",
    "  temp = str(data**2)\n",
    "  mid = len(temp)//2\n",
    "  return (int(temp[mid])%num)\n",
    "\n",
    "def linearProbing(ind,hashTable,data):\n",
    "  count=ind\n",
    "  found=False\n",
    "  while (count!=ind-1) and not(found):\n",
    "    if hashTable[count]=='none':\n",
    "      found=True\n",
    "      hashTable[count]=data\n",
    "    else:\n",
    "      count=count+1\n",
    "      if count==len(hashTable)-1:\n",
    "        count=0\n",
    "  return(hashTable)\n",
    "\n",
    "def putData3(a,hashTable,functionName):\n",
    "  for i in range(len(a)):\n",
    "    if functionName=='reminder':\n",
    "      ind=remainderFunction(a[i],len(hashTable))\n",
    "    elif functionName=='midSquare':\n",
    "      ind=midSquareFunction(a[i],len(hashTable))\n",
    "\n",
    "    if hashTable[ind]=='none':\n",
    "      hashTable[ind]=a[i]\n",
    "    else:\n",
    "      hashTable=linearProbing(ind,hashTable,a[i])\n",
    "\n",
    "  return(hashTable)"
   ]
  },
  {
   "cell_type": "code",
   "execution_count": 6,
   "metadata": {},
   "outputs": [
    {
     "name": "stdout",
     "output_type": "stream",
     "text": [
      "['none', 'none', 'none', 'none', 'none', 'none', 'none', 'none', 'none', 'none', 'none']\n",
      "[77, 'none', 'none', 'none', 26, 93, 17, 'none', 'none', 31, 54]\n"
     ]
    }
   ],
   "source": [
    "a=[54, 26, 93, 17, 77, 31]\n",
    "hashTable=createHashTable(11)\n",
    "print(hashTable)\n",
    "hashTable=putData3(a,hashTable,'reminder')\n",
    "print(hashTable)"
   ]
  },
  {
   "cell_type": "code",
   "execution_count": 12,
   "metadata": {},
   "outputs": [
    {
     "name": "stdout",
     "output_type": "stream",
     "text": [
      "['none', 'none', 'none', 'none', 'none', 'none', 'none', 'none', 'none', 'none', 'none']\n",
      "[77, 44, 55, 20, 26, 93, 17, 'none', 'none', 31, 54]\n"
     ]
    }
   ],
   "source": [
    "a=[54, 26, 93, 17, 77, 31,44,55,20]\n",
    "hashTable=createHashTable(11)\n",
    "print(hashTable)\n",
    "hashTable=putData3(a,hashTable,'reminder')\n",
    "print(hashTable)"
   ]
  },
  {
   "cell_type": "markdown",
   "metadata": {},
   "source": [
    "## hash chaining"
   ]
  },
  {
   "cell_type": "code",
   "execution_count": 7,
   "metadata": {},
   "outputs": [
    {
     "name": "stdout",
     "output_type": "stream",
     "text": [
      "[[], [], [], [], [], [], [], [], [], [], []]\n",
      "[[77, 44, 55], [], [], [], [26], [93], [17], [], [], [31, 20], [54]]\n"
     ]
    }
   ],
   "source": [
    "def createHashTable2(num):\n",
    "  temp=[]\n",
    "  for i in range(num):\n",
    "    temp.append([])\n",
    "  return temp\n",
    "\n",
    "def chaining(a,hashTable,functionName):\n",
    "  for i in range(len(a)):\n",
    "    if functionName=='reminder':\n",
    "      ind=remainderFunction(a[i],len(hashTable))\n",
    "      hashTable[ind].append(a[i])\n",
    "\n",
    "  return(hashTable)\n",
    "\n",
    "a=[54, 26, 93, 17, 77, 31,44,55,20]\n",
    "hashTable=createHashTable2(11)\n",
    "print(hashTable)\n",
    "hashTable=chaining(a,hashTable,'reminder')\n",
    "print(hashTable)"
   ]
  }
 ],
 "metadata": {
  "kernelspec": {
   "display_name": "Python 3",
   "language": "python",
   "name": "python3"
  },
  "language_info": {
   "codemirror_mode": {
    "name": "ipython",
    "version": 3
   },
   "file_extension": ".py",
   "mimetype": "text/x-python",
   "name": "python",
   "nbconvert_exporter": "python",
   "pygments_lexer": "ipython3",
   "version": "3.12.2"
  }
 },
 "nbformat": 4,
 "nbformat_minor": 2
}

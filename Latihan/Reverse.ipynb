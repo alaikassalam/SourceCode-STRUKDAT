{
 "cells": [
  {
   "cell_type": "code",
   "execution_count": 7,
   "metadata": {},
   "outputs": [],
   "source": [
    "def stack():\n",
    "    s=[]\n",
    "    return (s)\n",
    "def push(s,data):\n",
    "    s.append(data)\n",
    "def pop(s):\n",
    "    data=s.pop()\n",
    "    return(data)\n",
    "def peek(s):\n",
    "    return(s[len(s)-1])\n",
    "def isEmpty(s):\n",
    "    return (s==[])\n",
    "def size(s):\n",
    "    return(len(s))"
   ]
  },
  {
   "cell_type": "code",
   "execution_count": 8,
   "metadata": {},
   "outputs": [
    {
     "name": "stdout",
     "output_type": "stream",
     "text": [
      "uka\n"
     ]
    }
   ],
   "source": []
  },
  {
   "cell_type": "code",
   "execution_count": 9,
   "metadata": {},
   "outputs": [
    {
     "name": "stdout",
     "output_type": "stream",
     "text": [
      "namargormep rajaleb akus ayas\n"
     ]
    }
   ],
   "source": [
    "def reverse(kal):\n",
    "    dataStack = stack()\n",
    "    for ch in kal:\n",
    "        push(dataStack,ch)\n",
    "    temp = ''\n",
    "    while not(isEmpty(dataStack)):\n",
    "        temp = temp+pop(dataStack)\n",
    "    return temp\n",
    "a = 'saya suka belajar pemrograman'\n",
    "b = reverse(a)\n",
    "print(b)"
   ]
  },
  {
   "cell_type": "code",
   "execution_count": 1,
   "metadata": {},
   "outputs": [],
   "source": [
    "def queue():\n",
    "    q=[]\n",
    "    return (q)\n",
    "def enqueue(q,data):\n",
    "    q.insert(0,data)\n",
    "    return(q)\n",
    "def dequeue(q):\n",
    "    data=q.pop()\n",
    "    return(data)\n",
    "def isEmpty(q):\n",
    "    return (q==[])\n",
    "def size(q):\n",
    "    return (len(q))\n"
   ]
  },
  {
   "cell_type": "code",
   "execution_count": 3,
   "metadata": {},
   "outputs": [
    {
     "name": "stdout",
     "output_type": "stream",
     "text": [
      "antrian awal  ['d', 'c', 'b', 'a']\n",
      "proses antrian ['a', 'd', 'c', 'b']\n",
      "proses antrian ['b', 'a', 'd', 'c']\n",
      "proses antrian ['c', 'b', 'a', 'd']\n",
      "antrian  ['c', 'b', 'a']\n",
      "proses antrian ['a', 'c', 'b']\n",
      "proses antrian ['b', 'a', 'c']\n",
      "proses antrian ['c', 'b', 'a']\n",
      "antrian  ['c', 'b']\n",
      "proses antrian ['b', 'c']\n",
      "proses antrian ['c', 'b']\n",
      "proses antrian ['b', 'c']\n",
      "antrian  ['b']\n",
      "proses antrian ['b']\n",
      "proses antrian ['b']\n",
      "proses antrian ['b']\n",
      "antrian  []\n",
      "None\n"
     ]
    }
   ],
   "source": [
    "\n",
    "def ularNaga(nama,hitungan):\n",
    "    game = queue()\n",
    "    for data in nama:\n",
    "        enqueue(game,data)\n",
    "    print('antrian awal ',game)\n",
    "    while not(isEmpty(game)):\n",
    "        for i in range(hitungan):\n",
    "            temp = dequeue(game)\n",
    "            enqueue(game,temp)\n",
    "            # enqueue(game, dequeue(game))\n",
    "            print('proses antrian',game)\n",
    "        dequeue(game)\n",
    "        print('antrian ',game)\n",
    "\n",
    "anak = ['a','b','c','d'] \n",
    "hitung = 3 \n",
    "Result = ularNaga(anak,hitung)\n",
    "print(Result)"
   ]
  }
 ],
 "metadata": {
  "kernelspec": {
   "display_name": "Python 3",
   "language": "python",
   "name": "python3"
  },
  "language_info": {
   "codemirror_mode": {
    "name": "ipython",
    "version": 3
   },
   "file_extension": ".py",
   "mimetype": "text/x-python",
   "name": "python",
   "nbconvert_exporter": "python",
   "pygments_lexer": "ipython3",
   "version": "3.12.2"
  }
 },
 "nbformat": 4,
 "nbformat_minor": 2
}

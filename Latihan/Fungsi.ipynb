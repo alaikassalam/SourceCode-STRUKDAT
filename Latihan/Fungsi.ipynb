{
 "cells": [
  {
   "cell_type": "code",
   "execution_count": 2,
   "metadata": {},
   "outputs": [
    {
     "name": "stdout",
     "output_type": "stream",
     "text": [
      "1 4\n",
      "2 8\n",
      "3 12\n"
     ]
    }
   ],
   "source": [
    "n = int(input('input bilangan ; '))\n",
    "fn = 0\n",
    "for i in range(1,n+1):\n",
    "    fn = fn + 4*1\n",
    "    print(i,fn)"
   ]
  },
  {
   "cell_type": "code",
   "execution_count": 3,
   "metadata": {},
   "outputs": [
    {
     "name": "stdout",
     "output_type": "stream",
     "text": [
      "1 1\n",
      "2 5\n",
      "3 14\n",
      "4 30\n",
      "120\n"
     ]
    }
   ],
   "source": [
    "n = int(input('input bilangan ; '))\n",
    "fn = 0\n",
    "for i in range(1,n+1):\n",
    "    fn = fn + i**2\n",
    "    print(i,fn)\n",
    "temp = 4*fn\n",
    "print(temp)"
   ]
  }
 ],
 "metadata": {
  "kernelspec": {
   "display_name": "Python 3",
   "language": "python",
   "name": "python3"
  },
  "language_info": {
   "codemirror_mode": {
    "name": "ipython",
    "version": 3
   },
   "file_extension": ".py",
   "mimetype": "text/x-python",
   "name": "python",
   "nbconvert_exporter": "python",
   "pygments_lexer": "ipython3",
   "version": "3.12.2"
  }
 },
 "nbformat": 4,
 "nbformat_minor": 2
}

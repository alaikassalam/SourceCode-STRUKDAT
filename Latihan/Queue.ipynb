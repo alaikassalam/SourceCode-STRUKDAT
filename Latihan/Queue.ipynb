{
 "cells": [
  {
   "cell_type": "code",
   "execution_count": 1,
   "metadata": {},
   "outputs": [],
   "source": [
    "def queue():\n",
    "    q=[]\n",
    "    return (q)\n",
    "def enqueue(q,data):\n",
    "    q.insert(0,data)\n",
    "    return(q)\n",
    "def dequeue(q):\n",
    "    data=q.pop()\n",
    "    return(data)\n",
    "def isEmpty(q):\n",
    "    return (q==[])\n",
    "def size(q):\n",
    "    return (len(q))\n"
   ]
  },
  {
   "cell_type": "markdown",
   "metadata": {},
   "source": [
    "# Hitung jumlah kata"
   ]
  },
  {
   "cell_type": "code",
   "execution_count": 2,
   "metadata": {},
   "outputs": [
    {
     "name": "stdout",
     "output_type": "stream",
     "text": [
      "Jumlah kata dalam kalimat: 9\n"
     ]
    }
   ],
   "source": [
    "def hitung_jumlah_kata(kalimat):\n",
    "    # Buat queue kosong\n",
    "    q = queue()\n",
    "\n",
    "    # Pisahkan kalimat menjadi kata-kata\n",
    "    kata_kalimat = kalimat.split()\n",
    "\n",
    "    # Masukkan setiap kata ke dalam queue\n",
    "    for kata in kata_kalimat:\n",
    "        enqueue(q, kata)\n",
    "\n",
    "    # Hitung jumlah kata dalam queue\n",
    "    jumlah_kata = size(q)\n",
    "\n",
    "    return jumlah_kata\n",
    "\n",
    "# Contoh penggunaan\n",
    "kalimat = \"Ini adalah sebuah contoh kalimat untuk dihitung jumlah katanya\"\n",
    "print(\"Jumlah kata dalam kalimat:\", hitung_jumlah_kata(kalimat))"
   ]
  },
  {
   "cell_type": "code",
   "execution_count": 2,
   "metadata": {},
   "outputs": [
    {
     "name": "stdout",
     "output_type": "stream",
     "text": [
      "['Ini', 'adalah', 'contoh', 'kalimat', 'untuk', 'dipisahkan', 'secara', 'manual']\n"
     ]
    }
   ],
   "source": [
    "def pisahkan_kata(kalimat):\n",
    "    kata = \"\"\n",
    "    kata_kalimat = []\n",
    "    for karakter in kalimat:\n",
    "        # Jika karakter bukan spasi atau tanda baca\n",
    "        if karakter != \" \" and karakter not in \",.?!;:\":\n",
    "            kata += karakter\n",
    "        else:\n",
    "            # Jika ditemukan spasi atau tanda baca, tambahkan kata ke daftar kata\n",
    "            if kata:\n",
    "                kata_kalimat.append(kata)\n",
    "                kata = \"\"\n",
    "    # Tambahkan kata terakhir jika masih ada\n",
    "    if kata:\n",
    "        kata_kalimat.append(kata)\n",
    "    return kata_kalimat\n",
    "\n",
    "# Contoh penggunaan\n",
    "kalimat = \"Ini adalah contoh kalimat untuk dipisahkan secara manual.\"\n",
    "kata_kalimat = pisahkan_kata(kalimat)\n",
    "print(kata_kalimat)\n"
   ]
  },
  {
   "cell_type": "markdown",
   "metadata": {},
   "source": [
    "# Tambah ke antrian "
   ]
  },
  {
   "cell_type": "code",
   "execution_count": null,
   "metadata": {},
   "outputs": [],
   "source": [
    "\n",
    "def tambah_ke_antrian(antrian, orang):\n",
    "    # Tambahkan orang ke dalam antrian\n",
    "    antrian = enqueue(antrian, orang)\n",
    "    print(f\"{orang} telah ditambahkan ke dalam antrian.\")\n",
    "    return antrian\n",
    "\n",
    "def panggil_selanjutnya(antrian):\n",
    "    if not isEmpty(antrian):\n",
    "        orang = dequeue(antrian)\n",
    "        print(f\"{orang} silakan datang ke loket untuk dilayani.\")\n",
    "    else:\n",
    "        print(\"Antrian kosong, tidak ada yang dipanggil.\")\n",
    "\n",
    "def jumlah_orang_dalam_antrian(antrian):\n",
    "    jumlah_orang = size(antrian)\n",
    "    print(f\"Jumlah orang yang masih menunggu: {jumlah_orang}\")\n",
    "\n",
    "# Inisialisasi antrian kosong\n",
    "antrian_pendaftaran = queue()\n",
    "\n",
    "# Menu\n",
    "while True:\n",
    "    print(\"\\n=== Sistem Antrian Loket Pendaftaran ===\")\n",
    "    print(\"1. Tambahkan orang ke antrian\")\n",
    "    print(\"2. Panggil orang berikutnya\")\n",
    "    print(\"3. Tampilkan jumlah orang yang masih menunggu\")\n",
    "    print(\"4. Keluar\")\n",
    "    pilihan = input(\"Pilih menu (1/2/3/4): \")\n",
    "\n",
    "    if pilihan == '1':\n",
    "        nama = input(\"Masukkan nama orang yang ingin ditambahkan ke antrian: \")\n",
    "        antrian_pendaftaran = tambah_ke_antrian(antrian_pendaftaran, nama)\n",
    "    elif pilihan == '2':\n",
    "        panggil_selanjutnya(antrian_pendaftaran)\n",
    "    elif pilihan == '3':\n",
    "        jumlah_orang_dalam_antrian(antrian_pendaftaran)\n",
    "    elif pilihan == '4':\n",
    "        print(\"Terima kasih, program selesai.\")\n",
    "        break\n",
    "    else:\n",
    "        print(\"Pilihan tidak valid, silakan pilih menu yang benar.\")"
   ]
  },
  {
   "cell_type": "code",
   "execution_count": null,
   "metadata": {},
   "outputs": [],
   "source": [
    "def tambah_barang(q, nama_barang, harga):\n",
    "    barang = (nama_barang, harga)\n",
    "    return enqueue(q, barang)\n",
    "\n",
    "def hitung_total(q):\n",
    "    total = 0\n",
    "    for item in q:\n",
    "        total += item[1]  # Mengakses harga barang pada indeks ke-1\n",
    "    return total\n",
    "\n",
    "def tampilkan_rincian(q):\n",
    "    if not isEmpty(q):\n",
    "        print(\"Rincian Belanjaan:\")\n",
    "        for i, item in enumerate(q, start=1):\n",
    "            print(f\"{i}. {item[0]}: Rp{item[1]}\")\n",
    "        print(f\"Total harga: Rp{hitung_total(q)}\")\n",
    "    else:\n",
    "        print(\"Belum ada barang dalam keranjang belanja\")\n",
    "\n",
    "# Inisialisasi queue\n",
    "keranjang_belanja = queue()\n",
    "\n",
    "# Masukkan perulangan while untuk memungkinkan program dijalankan berulang kali\n",
    "while True:\n",
    "    # Meminta input barang dan harga dari pengguna\n",
    "    nama_barang = input(\"Masukkan nama barang: \")\n",
    "    harga_barang = float(input(\"Masukkan harga barang: \"))\n",
    "\n",
    "    # Menambahkan barang ke dalam keranjang belanjaan\n",
    "    keranjang_belanja = tambah_barang(keranjang_belanja, nama_barang, harga_barang)\n",
    "\n",
    "    # Menampilkan rincian belanja\n",
    "    tampilkan_rincian(keranjang_belanja)\n",
    "\n",
    "    # Menghapus barang dari keranjang belanjaan (Misalnya, ketika barang sudah dibayar)\n",
    "    hapus_barang = input(\"Apakah ingin menghapus barang pertama dari keranjang belanja (y/n)?: \")\n",
    "    if hapus_barang.lower() == 'y':\n",
    "        print(\"Menghapus barang pertama dari keranjang belanja\")\n",
    "        dequeue(keranjang_belanja)\n",
    "\n",
    "    # Menampilkan kembali rincian belanja setelah menghapus barang\n",
    "    tampilkan_rincian(keranjang_belanja)\n",
    "\n",
    "    # Tanya apakah ingin melanjutkan\n",
    "    lanjutkan = input(\"Apakah ingin melanjutkan (y/n)?: \")\n",
    "    if lanjutkan.lower() != 'y':\n",
    "        break  # Keluar dari perulangan jika tidak ingin melanjutkan\n"
   ]
  },
  {
   "cell_type": "markdown",
   "metadata": {},
   "source": []
  },
  {
   "cell_type": "code",
   "execution_count": null,
   "metadata": {},
   "outputs": [],
   "source": [
    "\n",
    "\n",
    "# Operasi enqueue untuk menambahkan elemen ke dalam antrian\n",
    "def enqueue_with_max(q, data):\n",
    "    main_queue = queue()\n",
    "    max_queue = queue()\n",
    "    enqueue(q, data)  # Tambahkan elemen ke dalam queue utama\n",
    "    while not isEmpty(max_queue) and max_queue[-1] < data:\n",
    "        dequeue(max_queue)  # Hapus elemen yang lebih kecil dari queue max\n",
    "    enqueue(max_queue, data)  # Tambahkan elemen baru ke dalam queue max\n",
    "\n",
    "# Operasi dequeue untuk menghapus elemen dari antrian\n",
    "def dequeue_with_max(q):\n",
    "    if not isEmpty(q):\n",
    "        removed_item = dequeue(q)  # Hapus elemen dari queue utama\n",
    "        if removed_item == max_queue[-1]:\n",
    "            dequeue(max_queue)  # Jika elemen yang dihapus adalah maksimum, hapus juga dari queue max\n",
    "        return removed_item\n",
    "    else:\n",
    "        return \"Queue is empty\"\n",
    "\n",
    "# Contoh penggunaan\n",
    "enqueue_with_max(main_queue, 5)\n",
    "enqueue_with_max(main_queue, 3)\n",
    "enqueue_with_max(main_queue, 7)\n",
    "\n",
    "print(\"Max element in queue:\", max_element(max_queue))  # Output: 7\n",
    "\n",
    "dequeue_with_max(main_queue)\n",
    "\n",
    "print(\"Max element in queue after dequeue:\", max_element(max_queue))  # Output: 7 (karena masih ada 7 dalam antrian)"
   ]
  }
 ],
 "metadata": {
  "kernelspec": {
   "display_name": "Python 3",
   "language": "python",
   "name": "python3"
  },
  "language_info": {
   "codemirror_mode": {
    "name": "ipython",
    "version": 3
   },
   "file_extension": ".py",
   "mimetype": "text/x-python",
   "name": "python",
   "nbconvert_exporter": "python",
   "pygments_lexer": "ipython3",
   "version": "3.12.2"
  }
 },
 "nbformat": 4,
 "nbformat_minor": 2
}
